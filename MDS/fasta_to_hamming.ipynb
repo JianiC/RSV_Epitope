{
 "cells": [
  {
   "cell_type": "code",
   "execution_count": 1,
   "metadata": {},
   "outputs": [],
   "source": [
    "## test with hamming distance\n",
    "import argparse\n",
    "import Bio.SeqIO\n",
    "from collections import OrderedDict\n",
    "import pandas as pd\n",
    "import numpy as np\n",
    "from pathlib import Path\n",
    "from scipy.spatial.distance import squareform, pdist\n"
   ]
  },
  {
   "cell_type": "code",
   "execution_count": 2,
   "metadata": {},
   "outputs": [],
   "source": [
    "def hamming_distance(s1, s2):\n",
    "    if len(s1) != len(s2):\n",
    "        #raise ValueError(\"Strand lengths are not equal!\")\n",
    "        return(len(s2))\n",
    "\n",
    "    return sum(ch1 != ch2 for ch1,ch2 in zip(s1,s2))"
   ]
  },
  {
   "cell_type": "code",
   "execution_count": 3,
   "metadata": {},
   "outputs": [],
   "source": [
    "def nest_list(list1,rows, columns):    \n",
    "        result=[]               \n",
    "        start = 0\n",
    "        end = columns\n",
    "        for i in range(rows): \n",
    "            result.append(list1[start:end])\n",
    "            start +=columns\n",
    "            end += columns\n",
    "        return result"
   ]
  },
  {
   "cell_type": "code",
   "execution_count": 4,
   "metadata": {},
   "outputs": [],
   "source": [
    "def seq_ham(input,output):\n",
    "    seq_record=OrderedDict()\n",
    "    for seq1 in Bio.SeqIO.parse(input,\"fasta\"):\n",
    "        seq_record[seq1.id]=str(seq1.seq)\n",
    "    seq_names = list(seq_record.keys())\n",
    "    \n",
    "    dist=[]\n",
    "    for s1 in seq_names:\n",
    "        for s2 in seq_names:\n",
    "            d=hamming_distance(seq_record[s1],seq_record[s2])\n",
    "            dist.append(d)\n",
    "     \n",
    "    \n",
    "    dist_array=nest_list(dist, len(seq_names),len(seq_names))\n",
    "    dist_matrix=pd.DataFrame(dist_array,index=seq_names)\n",
    "    dist_matrix.columns=seq_names\n",
    "    dist_matrix.to_csv(output)\n",
    "    print(\"hamming distance is writtein in \"+ output)"
   ]
  },
  {
   "cell_type": "code",
   "execution_count": 8,
   "metadata": {},
   "outputs": [
    {
     "name": "stdout",
     "output_type": "stream",
     "text": [
      "hamming distance is writtein in EpiCC/RSVA_F/RSVA_F_epicc_subsample_genetic_hamming.csv\n"
     ]
    }
   ],
   "source": [
    "seq_ham(\"EpiCC/RSVA_F/RSVA_F_epicc_subsample1112.fasta\",\"EpiCC/RSVA_F/RSVA_F_epicc_subsample_genetic_hamming.csv\")"
   ]
  },
  {
   "cell_type": "code",
   "execution_count": 10,
   "metadata": {},
   "outputs": [
    {
     "name": "stdout",
     "output_type": "stream",
     "text": [
      "hamming distance is writtein in EpiCC/RSVB_F/RSVB_F_epicc_subsample_genetic_hamming.csv\n"
     ]
    }
   ],
   "source": [
    "seq_ham(\"EpiCC/RSVB_F/RSVB_F_epicc_subsample1021_clean.fasta\",\"EpiCC/RSVB_F/RSVB_F_epicc_subsample_genetic_hamming.csv\")"
   ]
  },
  {
   "cell_type": "code",
   "execution_count": 12,
   "metadata": {},
   "outputs": [
    {
     "name": "stdout",
     "output_type": "stream",
     "text": [
      "hamming distance is writtein in EpiCC/RSVB_G/RSVB_G_epicc_subsample_genetic_hamming.csv\n"
     ]
    }
   ],
   "source": [
    "seq_ham(\"EpiCC/RSVB_G/RSVB_G_epicc_subsample1112.fasta\",\"EpiCC/RSVB_G/RSVB_G_epicc_subsample_genetic_hamming.csv\")"
   ]
  },
  {
   "cell_type": "code",
   "execution_count": 5,
   "metadata": {},
   "outputs": [
    {
     "name": "stdout",
     "output_type": "stream",
     "text": [
      "hamming distance is writtein in Test_data/Smith_tree/smith-et-al_2004_nucleotide-seqsHA1_genetic_hamming.csv\n"
     ]
    }
   ],
   "source": [
    "seq_ham(\"Test_data/Smith_tree/smith-et-al_2004_nucleotide-seqsHA1_al.fasta\",\"Test_data/Smith_tree/smith-et-al_2004_nucleotide-seqsHA1_genetic_hamming.csv\")"
   ]
  },
  {
   "cell_type": "code",
   "execution_count": null,
   "metadata": {},
   "outputs": [],
   "source": [
    "seq_ham(\"Test_data/Smith_tree/smith-et-al_2004_nucleotide-seqsHA1_al.fasta\",\"EpiCC/RSVB_G/RSVB_G_epicc_subsample_genetic_hamming.csv\")"
   ]
  }
 ],
 "metadata": {
  "kernelspec": {
   "display_name": "Python 3",
   "language": "python",
   "name": "python3"
  },
  "language_info": {
   "codemirror_mode": {
    "name": "ipython",
    "version": 3
   },
   "file_extension": ".py",
   "mimetype": "text/x-python",
   "name": "python",
   "nbconvert_exporter": "python",
   "pygments_lexer": "ipython3",
   "version": "3.7.6"
  }
 },
 "nbformat": 4,
 "nbformat_minor": 4
}
