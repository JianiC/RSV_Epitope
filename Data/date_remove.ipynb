{
 "cells": [
  {
   "cell_type": "code",
   "execution_count": 3,
   "metadata": {},
   "outputs": [],
   "source": [
    "from Bio import SeqIO\n",
    "import os,sys\n",
    "import pandas as pd\n",
    "import phylopandas as ph"
   ]
  },
  {
   "cell_type": "code",
   "execution_count": 4,
   "metadata": {},
   "outputs": [
    {
     "name": "stderr",
     "output_type": "stream",
     "text": [
      "/Users/jianichen1/opt/anaconda3/lib/python3.7/site-packages/IPython/core/interactiveshell.py:3063: DtypeWarning: Columns (20) have mixed types.Specify dtype option on import or set low_memory=False.\n",
      "  interactivity=interactivity, compiler=compiler, result=result)\n"
     ]
    }
   ],
   "source": [
    "## guess date for the RSVB_F sequece \n",
    "df = ph.read_fasta(\"RAxML/RAxML0708/RAxML_0708filter/HRSVB_F/HRSVB_F.fasta\")\n",
    "df = df.filter(['id','sequence'], axis=1)\n",
    "df[['Accession','subtype',\"country\",\"date\",\"genotype_ref\"]] = df.id.str.split(\"-\",expand=True) \n",
    "\n",
    "meta = pd.read_csv(\"Data_collection/HRSV_0622_meta_code_0810.csv\")\n",
    "meta = meta.filter(['Accession_x','collection_date_guess','genotype'], axis=1)\n",
    "#meta\n",
    "fasta=pd.merge(df, meta, how='left', left_on='Accession', right_on='Accession_x')\n",
    "\n",
    "fasta=fasta.dropna(subset=['collection_date_guess'])\n",
    "fasta[\"time\"] = pd.to_datetime(fasta[\"collection_date_guess\"])\n",
    "fasta = fasta.sort_values(by=\"time\")\n",
    "\n",
    "## remove the duplicate sequence, but keep the oldest one\n",
    "fasta=fasta.drop_duplicates(subset=['sequence'])\n",
    "fasta['taxa']=fasta.apply(lambda x:'%s-%s-%s-%s-%s' % (x['Accession'],x['subtype'],x['country'],x['collection_date_guess'],x['genotype']),axis=1)\n",
    "fasta=fasta.filter(['taxa','sequence'], axis=1)\n",
    "#csv to fasta\n",
    "fasta.to_csv(\"temp.tab\", sep=\"\\t\",index = False,header=False)\n",
    "fasta = SeqIO.parse(\"temp.tab\", \"tab\")\n",
    "SeqIO.write(fasta,\"RAxML/HRSVB_F_date2.fasta\" , \"fasta\")\n",
    "os.remove(\"temp.tab\")"
   ]
  },
  {
   "cell_type": "code",
   "execution_count": 6,
   "metadata": {},
   "outputs": [],
   "source": [
    "## Get the RSVB_F epitope binary data from fasta file\n",
    "dollo=pd.read_csv(\"iVAX/RSVB_F_classsII_analysis/HRSVB_F_classII_dollo.csv\")\n",
    "\n",
    "## read fasta\n",
    "df = ph.read_fasta(\"RAxML/RAxML_date/RAxML_date2/RSVB_F_pda.fasta\")\n",
    "df = df.filter(['id','sequence'], axis=1)\n",
    "df[['Accession','Subtype','country_code','collection_date','genotype_ref']] = df.id.str.split(\"-\",expand=True)\n",
    "fasta2=pd.merge(df, dollo, how='left', left_on='Accession', right_on='Accession')\n",
    "fasta2=fasta2.filter(['id','dollo'], axis=1)\n",
    "fasta2\n",
    "##covert to fasta\n",
    "fasta2.to_csv(\"temp.tab\", sep=\"\\t\",index = False,header=False)\n",
    "fasta2 = SeqIO.parse(\"temp.tab\", \"tab\")\n",
    "SeqIO.write(fasta2,\"RAxML/RAxML_date/RSVB_F_pda_epitope0829.fasta\" , \"fasta\")\n",
    "os.remove(\"temp.tab\")"
   ]
  },
  {
   "cell_type": "code",
   "execution_count": 4,
   "metadata": {},
   "outputs": [],
   "source": [
    "def date_remove(fasta_file,meta_file,output):\n",
    "    df = ph.read_fasta(fasta_file)\n",
    "    df = df.filter(['id','sequence'], axis=1)\n",
    "    df[['Accession','subtype',\"country\",\"date\",\"genotype_ref\"]] = df.id.str.split(\"-\",expand=True) \n",
    "\n",
    "    meta = pd.read_csv(meta_file)\n",
    "    meta = meta.filter(['Accession_x','collection_date_guess','genotype'], axis=1)\n",
    "    #meta\n",
    "    fasta=pd.merge(df, meta, how='left', left_on='Accession', right_on='Accession_x')\n",
    "    fasta=fasta.dropna(subset=['collection_date_guess'])\n",
    "    fasta[\"time\"] = pd.to_datetime(fasta[\"collection_date_guess\"])\n",
    "    fasta = fasta.sort_values(by=\"time\")\n",
    "    ## remove the duplicate sequence, but keep the oldest one\n",
    "    fasta=fasta.drop_duplicates(subset=['sequence'])\n",
    "    fasta['taxa']=fasta.apply(lambda x:'%s-%s-%s-%s-%s' % (x['Accession'],x['subtype'],x['country'],x['collection_date_guess'],x['genotype']),axis=1)\n",
    "    fasta=fasta.filter(['taxa','sequence'], axis=1)\n",
    "    #csv to fasta\n",
    "    fasta.to_csv(\"temp.tab\", sep=\"\\t\",index = False,header=False)\n",
    "    fasta = SeqIO.parse(\"temp.tab\", \"tab\")\n",
    "    SeqIO.write(fasta,output, \"fasta\")\n",
    "    os.remove(\"temp.tab\")"
   ]
  },
  {
   "cell_type": "code",
   "execution_count": 6,
   "metadata": {},
   "outputs": [
    {
     "name": "stderr",
     "output_type": "stream",
     "text": [
      "/Users/jianichen1/opt/anaconda3/lib/python3.7/site-packages/IPython/core/interactiveshell.py:3254: DtypeWarning: Columns (20) have mixed types.Specify dtype option on import or set low_memory=False.\n",
      "  if (await self.run_code(code, result,  async_=asy)):\n"
     ]
    }
   ],
   "source": [
    "date_remove(\"RAxML/RAxML0708/RAxML_0708filter/HRSVA_F/HRSVA_F.fasta\",\"Data_collection/HRSV_0622_meta_code_0810.csv\",\"RAxML/HRSVA_F_date.fasta\")"
   ]
  },
  {
   "cell_type": "code",
   "execution_count": 3,
   "metadata": {},
   "outputs": [
    {
     "name": "stderr",
     "output_type": "stream",
     "text": [
      "/Users/jianichen1/opt/anaconda3/lib/python3.7/site-packages/IPython/core/interactiveshell.py:3254: DtypeWarning: Columns (20) have mixed types.Specify dtype option on import or set low_memory=False.\n",
      "  if (await self.run_code(code, result,  async_=asy)):\n"
     ]
    }
   ],
   "source": [
    "date_remove(\"RAxML/RSV_G_setup_0819/RSVA/HRSVA_G.fasta\",\"Data_collection/HRSV_0622_meta_code_0810.csv\",\"RAxML/HRSVA_G_date.fasta\")"
   ]
  },
  {
   "cell_type": "code",
   "execution_count": 3,
   "metadata": {},
   "outputs": [
    {
     "name": "stderr",
     "output_type": "stream",
     "text": [
      "/Users/jianichen1/opt/anaconda3/lib/python3.7/site-packages/IPython/core/interactiveshell.py:3254: DtypeWarning: Columns (11) have mixed types.Specify dtype option on import or set low_memory=False.\n",
      "  if (await self.run_code(code, result,  async_=asy)):\n"
     ]
    }
   ],
   "source": [
    "date_remove(\"RAxML/RSV_G_setup_0819/RSVB/HRSVB_G.fasta\",\"Data_collection/HRSV_0622_meta_code_0810.csv\",\"RAxML/HRSVB_G_date.fasta\")"
   ]
  },
  {
   "cell_type": "code",
   "execution_count": 9,
   "metadata": {},
   "outputs": [
    {
     "data": {
      "text/html": [
       "<div>\n",
       "<style scoped>\n",
       "    .dataframe tbody tr th:only-of-type {\n",
       "        vertical-align: middle;\n",
       "    }\n",
       "\n",
       "    .dataframe tbody tr th {\n",
       "        vertical-align: top;\n",
       "    }\n",
       "\n",
       "    .dataframe thead th {\n",
       "        text-align: right;\n",
       "    }\n",
       "</style>\n",
       "<table border=\"1\" class=\"dataframe\">\n",
       "  <thead>\n",
       "    <tr style=\"text-align: right;\">\n",
       "      <th></th>\n",
       "      <th>id</th>\n",
       "      <th>sequence</th>\n",
       "    </tr>\n",
       "  </thead>\n",
       "  <tbody>\n",
       "    <tr>\n",
       "      <th>0</th>\n",
       "      <td>JX198112-A-USA-7/16/1956-GA1</td>\n",
       "      <td>ATGGAGTTGCCAATCCTCAAAGCAAATGCAATTACCACAATCCTCG...</td>\n",
       "    </tr>\n",
       "    <tr>\n",
       "      <th>1</th>\n",
       "      <td>JX198136-A-USA-5/15/1961-GA1</td>\n",
       "      <td>ATGGAGTTGCTAATCCTTAAAGCAAATGTAATTGCCACAATCCTCA...</td>\n",
       "    </tr>\n",
       "    <tr>\n",
       "      <th>2</th>\n",
       "      <td>KJ155694-A-Australia-7/16/1961-GA1</td>\n",
       "      <td>ATGGAGTTGCTAATCCTCAAAGCAAATGCAATTACCACAATCCTCA...</td>\n",
       "    </tr>\n",
       "    <tr>\n",
       "      <th>3</th>\n",
       "      <td>JX198138-A-Australia-7/16/1961-GA1</td>\n",
       "      <td>ATGGAGTTGCTAATCCTCAAAGCAAATGCAATTACCACAATCCTCA...</td>\n",
       "    </tr>\n",
       "    <tr>\n",
       "      <th>4</th>\n",
       "      <td>KU316106-A-USA-7/16/1977-GA1</td>\n",
       "      <td>ATGGAGTTGCCAATTATCAAAGCGAATGCAATTACCACAATCCTCA...</td>\n",
       "    </tr>\n",
       "    <tr>\n",
       "      <th>...</th>\n",
       "      <td>...</td>\n",
       "      <td>...</td>\n",
       "    </tr>\n",
       "    <tr>\n",
       "      <th>1443</th>\n",
       "      <td>MN306031-A-USA-7/16/2019-ON1</td>\n",
       "      <td>ATGGAGTTGCCAATCCTCAAAACAAATGCTATTACCACAATCCTTG...</td>\n",
       "    </tr>\n",
       "    <tr>\n",
       "      <th>1444</th>\n",
       "      <td>MN306048-A-USA-7/16/2019-ON1</td>\n",
       "      <td>ATGGAGTTGCCAATCTTCAAAACAAATGCTATTATCACAATCCTTG...</td>\n",
       "    </tr>\n",
       "    <tr>\n",
       "      <th>1445</th>\n",
       "      <td>MT422269-A-Russia-11/28/2019-ON1</td>\n",
       "      <td>ATGGAGTTGCCAATCCTCAAAACAAATGCTATTATCACAATCCTTG...</td>\n",
       "    </tr>\n",
       "    <tr>\n",
       "      <th>1446</th>\n",
       "      <td>MT422273-A-Russia-12/2/2019-ON1</td>\n",
       "      <td>ATGGAGTTGCCAATCCTCAAAACAAATGCCATTATCACAATCCTTG...</td>\n",
       "    </tr>\n",
       "    <tr>\n",
       "      <th>1447</th>\n",
       "      <td>MT422270-A-Russia-12/6/2019-ON1</td>\n",
       "      <td>ATGGAGTTGCCAATCCTCAAAACAAATGCTATTATCACAATCCTTG...</td>\n",
       "    </tr>\n",
       "  </tbody>\n",
       "</table>\n",
       "<p>1448 rows × 2 columns</p>\n",
       "</div>"
      ],
      "text/plain": [
       "                                      id  \\\n",
       "0           JX198112-A-USA-7/16/1956-GA1   \n",
       "1           JX198136-A-USA-5/15/1961-GA1   \n",
       "2     KJ155694-A-Australia-7/16/1961-GA1   \n",
       "3     JX198138-A-Australia-7/16/1961-GA1   \n",
       "4           KU316106-A-USA-7/16/1977-GA1   \n",
       "...                                  ...   \n",
       "1443        MN306031-A-USA-7/16/2019-ON1   \n",
       "1444        MN306048-A-USA-7/16/2019-ON1   \n",
       "1445    MT422269-A-Russia-11/28/2019-ON1   \n",
       "1446     MT422273-A-Russia-12/2/2019-ON1   \n",
       "1447     MT422270-A-Russia-12/6/2019-ON1   \n",
       "\n",
       "                                               sequence  \n",
       "0     ATGGAGTTGCCAATCCTCAAAGCAAATGCAATTACCACAATCCTCG...  \n",
       "1     ATGGAGTTGCTAATCCTTAAAGCAAATGTAATTGCCACAATCCTCA...  \n",
       "2     ATGGAGTTGCTAATCCTCAAAGCAAATGCAATTACCACAATCCTCA...  \n",
       "3     ATGGAGTTGCTAATCCTCAAAGCAAATGCAATTACCACAATCCTCA...  \n",
       "4     ATGGAGTTGCCAATTATCAAAGCGAATGCAATTACCACAATCCTCA...  \n",
       "...                                                 ...  \n",
       "1443  ATGGAGTTGCCAATCCTCAAAACAAATGCTATTACCACAATCCTTG...  \n",
       "1444  ATGGAGTTGCCAATCTTCAAAACAAATGCTATTATCACAATCCTTG...  \n",
       "1445  ATGGAGTTGCCAATCCTCAAAACAAATGCTATTATCACAATCCTTG...  \n",
       "1446  ATGGAGTTGCCAATCCTCAAAACAAATGCCATTATCACAATCCTTG...  \n",
       "1447  ATGGAGTTGCCAATCCTCAAAACAAATGCTATTATCACAATCCTTG...  \n",
       "\n",
       "[1448 rows x 2 columns]"
      ]
     },
     "execution_count": 9,
     "metadata": {},
     "output_type": "execute_result"
    }
   ],
   "source": [
    "df =ph.read_fasta(\"RAxML/RSVA_F/RSVA_F_datev2.fasta\")\n",
    "df=df.filter(['id','sequence'], axis=1)\n",
    "#df\n",
    "fasta=df.drop_duplicates(subset=['sequence'])\n",
    "fasta"
   ]
  },
  {
   "cell_type": "code",
   "execution_count": null,
   "metadata": {},
   "outputs": [],
   "source": []
  }
 ],
 "metadata": {
  "kernelspec": {
   "display_name": "Python 3",
   "language": "python",
   "name": "python3"
  },
  "language_info": {
   "codemirror_mode": {
    "name": "ipython",
    "version": 3
   },
   "file_extension": ".py",
   "mimetype": "text/x-python",
   "name": "python",
   "nbconvert_exporter": "python",
   "pygments_lexer": "ipython3",
   "version": "3.7.6"
  }
 },
 "nbformat": 4,
 "nbformat_minor": 4
}
