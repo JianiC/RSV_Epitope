{
 "cells": [
  {
   "cell_type": "code",
   "execution_count": 1,
   "metadata": {},
   "outputs": [],
   "source": [
    "import pandas as pd\n",
    "import numpy as np\n",
    "import os, sys\n",
    "import re\n",
    "import phylopandas as ph"
   ]
  },
  {
   "cell_type": "code",
   "execution_count": 2,
   "metadata": {},
   "outputs": [],
   "source": [
    "## parse seq data\n",
    "from Bio import SeqIO"
   ]
  },
  {
   "cell_type": "code",
   "execution_count": 3,
   "metadata": {},
   "outputs": [],
   "source": [
    "#make a function to create subsample\n",
    "## df has 3 column, sequence taxa, date, and country; here I group the dataset by year and country, n is the number for each group\n",
    "#he output is a csv file which has a list of sampled taxa\n",
    "\n",
    "def subsample(df,n,file):\n",
    "    #Convert 'Date' to a datetime datatype.\n",
    "    df['date'] = pd.to_datetime(df['date'],infer_datetime_format=True)\n",
    "    sample = df.groupby(['country',df['date'].dt.year],group_keys=False).apply(lambda x:x.sample(min(len(x),n)))\n",
    "    taxa = sample['taxa']\n",
    "    ## write taxa to a file\n",
    "    taxa.to_csv(file, header = False, index =False)\n",
    "    \n",
    "    "
   ]
  },
  {
   "cell_type": "code",
   "execution_count": 40,
   "metadata": {},
   "outputs": [],
   "source": [
    "subsample(RSVB,5,'RSVB_sample_1.txt')\n",
    "subsample(RSVB,5,'RSVB_sample_2.txt')\n",
    "subsample(RSVB,5,'RSVB_sample_3.txt')"
   ]
  },
  {
   "cell_type": "code",
   "execution_count": 5,
   "metadata": {},
   "outputs": [],
   "source": [
    "## random sample\n",
    "def random_sample(df,n,file):\n",
    "    sample = df.sample(frac=n)\n",
    "    taxa = sample['taxa']\n",
    "    taxa.to_csv(file, header = False, index =False)\n",
    "    \n"
   ]
  },
  {
   "cell_type": "code",
   "execution_count": 6,
   "metadata": {},
   "outputs": [],
   "source": [
    "random_sample(RSVB,0.5,'RSVB_sample_1.txt')\n",
    "random_sample(RSVB,0.5,'RSVB_sample_2.txt')\n",
    "random_sample(RSVB,0.5,'RSVB_sample_3.txt')"
   ]
  },
  {
   "cell_type": "code",
   "execution_count": null,
   "metadata": {},
   "outputs": [],
   "source": [
    "## Vaccine efficacy evaluation \n",
    "## RSVB_F, start with the orginal dataset\n",
    "# from fasta file to get the year and country information\n",
    "df = ph.read_fasta(fasta_file)\n",
    "df = df.filter(['id','sequence'], axis=1)\n",
    "df[['Accession','subtype',\"country\",\"date\",\"genotype_ref\"]] = df.id.str.split(\"-\",expand=True) \n",
    "\n",
    "meta = pd.read_csv(meta_file)\n",
    "meta = meta.filter(['Accession_x','collection_date_guess','genotype'], axis=1)\n",
    "#meta\n",
    "fasta=pd.merge(df, meta, how='left', left_on='Accession', right_on='Accession_x')\n",
    "fasta=fasta.dropna(subset=['collection_date_guess'])\n",
    "fasta[\"time\"] = pd.to_datetime(fasta[\"collection_date_guess\"])"
   ]
  },
  {
   "cell_type": "code",
   "execution_count": 15,
   "metadata": {},
   "outputs": [
    {
     "ename": "ValueError",
     "evalue": "Columns must be same length as key",
     "output_type": "error",
     "traceback": [
      "\u001b[0;31m---------------------------------------------------------------------------\u001b[0m",
      "\u001b[0;31mValueError\u001b[0m                                Traceback (most recent call last)",
      "\u001b[0;32m<ipython-input-15-c556556edf29>\u001b[0m in \u001b[0;36m<module>\u001b[0;34m\u001b[0m\n\u001b[1;32m      1\u001b[0m \u001b[0mdf\u001b[0m \u001b[0;34m=\u001b[0m \u001b[0mph\u001b[0m\u001b[0;34m.\u001b[0m\u001b[0mread_fasta\u001b[0m\u001b[0;34m(\u001b[0m\u001b[0;34m\"RAxML/RAxML_date/RAxML_date_RSVA_F/HRSVA_F_date.fasta\"\u001b[0m\u001b[0;34m)\u001b[0m\u001b[0;34m\u001b[0m\u001b[0;34m\u001b[0m\u001b[0m\n\u001b[1;32m      2\u001b[0m \u001b[0mdf\u001b[0m \u001b[0;34m=\u001b[0m \u001b[0mdf\u001b[0m\u001b[0;34m.\u001b[0m\u001b[0mfilter\u001b[0m\u001b[0;34m(\u001b[0m\u001b[0;34m[\u001b[0m\u001b[0;34m'id'\u001b[0m\u001b[0;34m,\u001b[0m\u001b[0;34m'sequence'\u001b[0m\u001b[0;34m]\u001b[0m\u001b[0;34m,\u001b[0m \u001b[0maxis\u001b[0m\u001b[0;34m=\u001b[0m\u001b[0;36m1\u001b[0m\u001b[0;34m)\u001b[0m\u001b[0;34m\u001b[0m\u001b[0;34m\u001b[0m\u001b[0m\n\u001b[0;32m----> 3\u001b[0;31m \u001b[0mdf\u001b[0m\u001b[0;34m[\u001b[0m\u001b[0;34m[\u001b[0m\u001b[0;34m'Accession'\u001b[0m\u001b[0;34m,\u001b[0m\u001b[0;34m'subtype'\u001b[0m\u001b[0;34m,\u001b[0m\u001b[0;34m\"country\"\u001b[0m\u001b[0;34m,\u001b[0m\u001b[0;34m\"date\"\u001b[0m\u001b[0;34m,\u001b[0m\u001b[0;34m\"genotype_ref\"\u001b[0m\u001b[0;34m]\u001b[0m\u001b[0;34m]\u001b[0m \u001b[0;34m=\u001b[0m \u001b[0mdf\u001b[0m\u001b[0;34m.\u001b[0m\u001b[0mid\u001b[0m\u001b[0;34m.\u001b[0m\u001b[0mstr\u001b[0m\u001b[0;34m.\u001b[0m\u001b[0msplit\u001b[0m\u001b[0;34m(\u001b[0m\u001b[0;34m\"-\"\u001b[0m\u001b[0;34m,\u001b[0m\u001b[0mexpand\u001b[0m\u001b[0;34m=\u001b[0m\u001b[0;32mTrue\u001b[0m\u001b[0;34m)\u001b[0m\u001b[0;34m\u001b[0m\u001b[0;34m\u001b[0m\u001b[0m\n\u001b[0m\u001b[1;32m      4\u001b[0m \u001b[0;31m#df['date2'] = pd.to_datetime(df['date'],infer_datetime_format=True)\u001b[0m\u001b[0;34m\u001b[0m\u001b[0;34m\u001b[0m\u001b[0;34m\u001b[0m\u001b[0m\n\u001b[1;32m      5\u001b[0m \u001b[0;31m#df[\"year\"]=df.date2.dt.year\u001b[0m\u001b[0;34m\u001b[0m\u001b[0;34m\u001b[0m\u001b[0;34m\u001b[0m\u001b[0m\n",
      "\u001b[0;32m~/opt/anaconda3/lib/python3.7/site-packages/pandas/core/frame.py\u001b[0m in \u001b[0;36m__setitem__\u001b[0;34m(self, key, value)\u001b[0m\n\u001b[1;32m   2933\u001b[0m             \u001b[0mself\u001b[0m\u001b[0;34m.\u001b[0m\u001b[0m_setitem_frame\u001b[0m\u001b[0;34m(\u001b[0m\u001b[0mkey\u001b[0m\u001b[0;34m,\u001b[0m \u001b[0mvalue\u001b[0m\u001b[0;34m)\u001b[0m\u001b[0;34m\u001b[0m\u001b[0;34m\u001b[0m\u001b[0m\n\u001b[1;32m   2934\u001b[0m         \u001b[0;32melif\u001b[0m \u001b[0misinstance\u001b[0m\u001b[0;34m(\u001b[0m\u001b[0mkey\u001b[0m\u001b[0;34m,\u001b[0m \u001b[0;34m(\u001b[0m\u001b[0mSeries\u001b[0m\u001b[0;34m,\u001b[0m \u001b[0mnp\u001b[0m\u001b[0;34m.\u001b[0m\u001b[0mndarray\u001b[0m\u001b[0;34m,\u001b[0m \u001b[0mlist\u001b[0m\u001b[0;34m,\u001b[0m \u001b[0mIndex\u001b[0m\u001b[0;34m)\u001b[0m\u001b[0;34m)\u001b[0m\u001b[0;34m:\u001b[0m\u001b[0;34m\u001b[0m\u001b[0;34m\u001b[0m\u001b[0m\n\u001b[0;32m-> 2935\u001b[0;31m             \u001b[0mself\u001b[0m\u001b[0;34m.\u001b[0m\u001b[0m_setitem_array\u001b[0m\u001b[0;34m(\u001b[0m\u001b[0mkey\u001b[0m\u001b[0;34m,\u001b[0m \u001b[0mvalue\u001b[0m\u001b[0;34m)\u001b[0m\u001b[0;34m\u001b[0m\u001b[0;34m\u001b[0m\u001b[0m\n\u001b[0m\u001b[1;32m   2936\u001b[0m         \u001b[0;32melse\u001b[0m\u001b[0;34m:\u001b[0m\u001b[0;34m\u001b[0m\u001b[0;34m\u001b[0m\u001b[0m\n\u001b[1;32m   2937\u001b[0m             \u001b[0;31m# set column\u001b[0m\u001b[0;34m\u001b[0m\u001b[0;34m\u001b[0m\u001b[0;34m\u001b[0m\u001b[0m\n",
      "\u001b[0;32m~/opt/anaconda3/lib/python3.7/site-packages/pandas/core/frame.py\u001b[0m in \u001b[0;36m_setitem_array\u001b[0;34m(self, key, value)\u001b[0m\n\u001b[1;32m   2959\u001b[0m             \u001b[0;32mif\u001b[0m \u001b[0misinstance\u001b[0m\u001b[0;34m(\u001b[0m\u001b[0mvalue\u001b[0m\u001b[0;34m,\u001b[0m \u001b[0mDataFrame\u001b[0m\u001b[0;34m)\u001b[0m\u001b[0;34m:\u001b[0m\u001b[0;34m\u001b[0m\u001b[0;34m\u001b[0m\u001b[0m\n\u001b[1;32m   2960\u001b[0m                 \u001b[0;32mif\u001b[0m \u001b[0mlen\u001b[0m\u001b[0;34m(\u001b[0m\u001b[0mvalue\u001b[0m\u001b[0;34m.\u001b[0m\u001b[0mcolumns\u001b[0m\u001b[0;34m)\u001b[0m \u001b[0;34m!=\u001b[0m \u001b[0mlen\u001b[0m\u001b[0;34m(\u001b[0m\u001b[0mkey\u001b[0m\u001b[0;34m)\u001b[0m\u001b[0;34m:\u001b[0m\u001b[0;34m\u001b[0m\u001b[0;34m\u001b[0m\u001b[0m\n\u001b[0;32m-> 2961\u001b[0;31m                     \u001b[0;32mraise\u001b[0m \u001b[0mValueError\u001b[0m\u001b[0;34m(\u001b[0m\u001b[0;34m\"Columns must be same length as key\"\u001b[0m\u001b[0;34m)\u001b[0m\u001b[0;34m\u001b[0m\u001b[0;34m\u001b[0m\u001b[0m\n\u001b[0m\u001b[1;32m   2962\u001b[0m                 \u001b[0;32mfor\u001b[0m \u001b[0mk1\u001b[0m\u001b[0;34m,\u001b[0m \u001b[0mk2\u001b[0m \u001b[0;32min\u001b[0m \u001b[0mzip\u001b[0m\u001b[0;34m(\u001b[0m\u001b[0mkey\u001b[0m\u001b[0;34m,\u001b[0m \u001b[0mvalue\u001b[0m\u001b[0;34m.\u001b[0m\u001b[0mcolumns\u001b[0m\u001b[0;34m)\u001b[0m\u001b[0;34m:\u001b[0m\u001b[0;34m\u001b[0m\u001b[0;34m\u001b[0m\u001b[0m\n\u001b[1;32m   2963\u001b[0m                     \u001b[0mself\u001b[0m\u001b[0;34m[\u001b[0m\u001b[0mk1\u001b[0m\u001b[0;34m]\u001b[0m \u001b[0;34m=\u001b[0m \u001b[0mvalue\u001b[0m\u001b[0;34m[\u001b[0m\u001b[0mk2\u001b[0m\u001b[0;34m]\u001b[0m\u001b[0;34m\u001b[0m\u001b[0;34m\u001b[0m\u001b[0m\n",
      "\u001b[0;31mValueError\u001b[0m: Columns must be same length as key"
     ]
    }
   ],
   "source": [
    "df = ph.read_fasta(\"RAxML/RAxML_date/RAxML_date_RSVA_F/HRSVA_F_date.fasta\")\n",
    "df = df.filter(['id','sequence'], axis=1)\n",
    "df[['Accession','subtype',\"country\",\"date\",\"genotype_ref\"]] = df.id.str.split(\"-\",expand=True) \n",
    "#df['date2'] = pd.to_datetime(df['date'],infer_datetime_format=True)\n",
    "#df[\"year\"]=df.date2.dt.year\n",
    "df"
   ]
  },
  {
   "cell_type": "code",
   "execution_count": 43,
   "metadata": {},
   "outputs": [
    {
     "data": {
      "text/plain": [
       "country         year\n",
       "Argentina       2006     1\n",
       "                2007     1\n",
       "                2008     1\n",
       "                2015     2\n",
       "                2016     2\n",
       "                        ..\n",
       "United_Kingdom  2011     3\n",
       "                2012    11\n",
       "                2013     8\n",
       "                2014     2\n",
       "                2016     2\n",
       "Length: 141, dtype: int64"
      ]
     },
     "execution_count": 43,
     "metadata": {},
     "output_type": "execute_result"
    }
   ],
   "source": [
    "df.groupby(['country', 'year']).size()"
   ]
  },
  {
   "cell_type": "code",
   "execution_count": 44,
   "metadata": {},
   "outputs": [],
   "source": [
    "sample = df.groupby(['country',df['date2'].dt.year],group_keys=False).apply(lambda x:x.sample(min(len(x),3)))"
   ]
  },
  {
   "cell_type": "code",
   "execution_count": 45,
   "metadata": {},
   "outputs": [
    {
     "data": {
      "text/html": [
       "<div>\n",
       "<style scoped>\n",
       "    .dataframe tbody tr th:only-of-type {\n",
       "        vertical-align: middle;\n",
       "    }\n",
       "\n",
       "    .dataframe tbody tr th {\n",
       "        vertical-align: top;\n",
       "    }\n",
       "\n",
       "    .dataframe thead th {\n",
       "        text-align: right;\n",
       "    }\n",
       "</style>\n",
       "<table border=\"1\" class=\"dataframe\">\n",
       "  <thead>\n",
       "    <tr style=\"text-align: right;\">\n",
       "      <th></th>\n",
       "      <th>id</th>\n",
       "      <th>sequence</th>\n",
       "      <th>Accession</th>\n",
       "      <th>subtype</th>\n",
       "      <th>country</th>\n",
       "      <th>date</th>\n",
       "      <th>genotype_ref</th>\n",
       "      <th>date2</th>\n",
       "      <th>year</th>\n",
       "    </tr>\n",
       "  </thead>\n",
       "  <tbody>\n",
       "    <tr>\n",
       "      <th>67</th>\n",
       "      <td>KF826839-B-Argentina-7/25/2006-BA</td>\n",
       "      <td>ATGGAGTTGCTGATCCATAGATCAAGTGCAATATTCCTAACTCTTG...</td>\n",
       "      <td>KF826839</td>\n",
       "      <td>B</td>\n",
       "      <td>Argentina</td>\n",
       "      <td>7/25/2006</td>\n",
       "      <td>BA</td>\n",
       "      <td>2006-07-25</td>\n",
       "      <td>2006</td>\n",
       "    </tr>\n",
       "    <tr>\n",
       "      <th>68</th>\n",
       "      <td>KF826842-B-Argentina-5/22/2007-BA</td>\n",
       "      <td>ATGGAGTTGCTGATCCATAGATCAAGTGCAATCTTCCTAACTCTTG...</td>\n",
       "      <td>KF826842</td>\n",
       "      <td>B</td>\n",
       "      <td>Argentina</td>\n",
       "      <td>5/22/2007</td>\n",
       "      <td>BA</td>\n",
       "      <td>2007-05-22</td>\n",
       "      <td>2007</td>\n",
       "    </tr>\n",
       "    <tr>\n",
       "      <th>71</th>\n",
       "      <td>KF826845-B-Argentina-6/10/2008-BA</td>\n",
       "      <td>ATGGAGTTGCTGATCCATAGATCAAGTGCAATCTTCCTAACTCTTG...</td>\n",
       "      <td>KF826845</td>\n",
       "      <td>B</td>\n",
       "      <td>Argentina</td>\n",
       "      <td>6/10/2008</td>\n",
       "      <td>BA</td>\n",
       "      <td>2008-06-10</td>\n",
       "      <td>2008</td>\n",
       "    </tr>\n",
       "    <tr>\n",
       "      <th>467</th>\n",
       "      <td>KY883568-B-Argentina-2/23/2015-BA</td>\n",
       "      <td>ATGGAGTTGCTGATCCATAGATCAAGTGCAATCTTCCTAACTCTTG...</td>\n",
       "      <td>KY883568</td>\n",
       "      <td>B</td>\n",
       "      <td>Argentina</td>\n",
       "      <td>2/23/2015</td>\n",
       "      <td>BA</td>\n",
       "      <td>2015-02-23</td>\n",
       "      <td>2015</td>\n",
       "    </tr>\n",
       "    <tr>\n",
       "      <th>252</th>\n",
       "      <td>KY883571-B-Argentina-5/26/2015-BA</td>\n",
       "      <td>ATGGAGTTGCTGATCCATAGATCAAGTGCAATCTTCCTAACTCTTG...</td>\n",
       "      <td>KY883571</td>\n",
       "      <td>B</td>\n",
       "      <td>Argentina</td>\n",
       "      <td>5/26/2015</td>\n",
       "      <td>BA</td>\n",
       "      <td>2015-05-26</td>\n",
       "      <td>2015</td>\n",
       "    </tr>\n",
       "    <tr>\n",
       "      <th>...</th>\n",
       "      <td>...</td>\n",
       "      <td>...</td>\n",
       "      <td>...</td>\n",
       "      <td>...</td>\n",
       "      <td>...</td>\n",
       "      <td>...</td>\n",
       "      <td>...</td>\n",
       "      <td>...</td>\n",
       "      <td>...</td>\n",
       "    </tr>\n",
       "    <tr>\n",
       "      <th>209</th>\n",
       "      <td>KY249662-B-United_Kingdom-11/19/2013-BA</td>\n",
       "      <td>ATGGAGTTGCTGATCCATAGATCAAGCGCAATCTTCCTAACTCTTG...</td>\n",
       "      <td>KY249662</td>\n",
       "      <td>B</td>\n",
       "      <td>United_Kingdom</td>\n",
       "      <td>11/19/2013</td>\n",
       "      <td>BA</td>\n",
       "      <td>2013-11-19</td>\n",
       "      <td>2013</td>\n",
       "    </tr>\n",
       "    <tr>\n",
       "      <th>411</th>\n",
       "      <td>KY249657-B-United_Kingdom-1/3/2014-BA</td>\n",
       "      <td>ATGGAGTTGCTGATCCATAGATCAAGTGCAATCTTCCTAACTCTTG...</td>\n",
       "      <td>KY249657</td>\n",
       "      <td>B</td>\n",
       "      <td>United_Kingdom</td>\n",
       "      <td>1/3/2014</td>\n",
       "      <td>BA</td>\n",
       "      <td>2014-01-03</td>\n",
       "      <td>2014</td>\n",
       "    </tr>\n",
       "    <tr>\n",
       "      <th>410</th>\n",
       "      <td>KY249656-B-United_Kingdom-1/7/2014-BA</td>\n",
       "      <td>ATGGAGTTGCTGATCCATAGATCAAGTGCAATCTTCCTAACTCTTG...</td>\n",
       "      <td>KY249656</td>\n",
       "      <td>B</td>\n",
       "      <td>United_Kingdom</td>\n",
       "      <td>1/7/2014</td>\n",
       "      <td>BA</td>\n",
       "      <td>2014-01-07</td>\n",
       "      <td>2014</td>\n",
       "    </tr>\n",
       "    <tr>\n",
       "      <th>420</th>\n",
       "      <td>KY249683-B-United_Kingdom-1/4/2016-BA</td>\n",
       "      <td>ATGGAGTTGCTGATCCATAGATCAAGTGCAATCTTCCTAACTCTTG...</td>\n",
       "      <td>KY249683</td>\n",
       "      <td>B</td>\n",
       "      <td>United_Kingdom</td>\n",
       "      <td>1/4/2016</td>\n",
       "      <td>BA</td>\n",
       "      <td>2016-01-04</td>\n",
       "      <td>2016</td>\n",
       "    </tr>\n",
       "    <tr>\n",
       "      <th>419</th>\n",
       "      <td>KY249682-B-United_Kingdom-1/10/2016-BA</td>\n",
       "      <td>ATGGAGTTGCTGATCCATAGATCAAGTGCAATCTTCCTAACTCTTG...</td>\n",
       "      <td>KY249682</td>\n",
       "      <td>B</td>\n",
       "      <td>United_Kingdom</td>\n",
       "      <td>1/10/2016</td>\n",
       "      <td>BA</td>\n",
       "      <td>2016-01-10</td>\n",
       "      <td>2016</td>\n",
       "    </tr>\n",
       "  </tbody>\n",
       "</table>\n",
       "<p>318 rows × 9 columns</p>\n",
       "</div>"
      ],
      "text/plain": [
       "                                          id  \\\n",
       "67         KF826839-B-Argentina-7/25/2006-BA   \n",
       "68         KF826842-B-Argentina-5/22/2007-BA   \n",
       "71         KF826845-B-Argentina-6/10/2008-BA   \n",
       "467        KY883568-B-Argentina-2/23/2015-BA   \n",
       "252        KY883571-B-Argentina-5/26/2015-BA   \n",
       "..                                       ...   \n",
       "209  KY249662-B-United_Kingdom-11/19/2013-BA   \n",
       "411    KY249657-B-United_Kingdom-1/3/2014-BA   \n",
       "410    KY249656-B-United_Kingdom-1/7/2014-BA   \n",
       "420    KY249683-B-United_Kingdom-1/4/2016-BA   \n",
       "419   KY249682-B-United_Kingdom-1/10/2016-BA   \n",
       "\n",
       "                                              sequence Accession subtype  \\\n",
       "67   ATGGAGTTGCTGATCCATAGATCAAGTGCAATATTCCTAACTCTTG...  KF826839       B   \n",
       "68   ATGGAGTTGCTGATCCATAGATCAAGTGCAATCTTCCTAACTCTTG...  KF826842       B   \n",
       "71   ATGGAGTTGCTGATCCATAGATCAAGTGCAATCTTCCTAACTCTTG...  KF826845       B   \n",
       "467  ATGGAGTTGCTGATCCATAGATCAAGTGCAATCTTCCTAACTCTTG...  KY883568       B   \n",
       "252  ATGGAGTTGCTGATCCATAGATCAAGTGCAATCTTCCTAACTCTTG...  KY883571       B   \n",
       "..                                                 ...       ...     ...   \n",
       "209  ATGGAGTTGCTGATCCATAGATCAAGCGCAATCTTCCTAACTCTTG...  KY249662       B   \n",
       "411  ATGGAGTTGCTGATCCATAGATCAAGTGCAATCTTCCTAACTCTTG...  KY249657       B   \n",
       "410  ATGGAGTTGCTGATCCATAGATCAAGTGCAATCTTCCTAACTCTTG...  KY249656       B   \n",
       "420  ATGGAGTTGCTGATCCATAGATCAAGTGCAATCTTCCTAACTCTTG...  KY249683       B   \n",
       "419  ATGGAGTTGCTGATCCATAGATCAAGTGCAATCTTCCTAACTCTTG...  KY249682       B   \n",
       "\n",
       "            country        date genotype_ref      date2  year  \n",
       "67        Argentina   7/25/2006           BA 2006-07-25  2006  \n",
       "68        Argentina   5/22/2007           BA 2007-05-22  2007  \n",
       "71        Argentina   6/10/2008           BA 2008-06-10  2008  \n",
       "467       Argentina   2/23/2015           BA 2015-02-23  2015  \n",
       "252       Argentina   5/26/2015           BA 2015-05-26  2015  \n",
       "..              ...         ...          ...        ...   ...  \n",
       "209  United_Kingdom  11/19/2013           BA 2013-11-19  2013  \n",
       "411  United_Kingdom    1/3/2014           BA 2014-01-03  2014  \n",
       "410  United_Kingdom    1/7/2014           BA 2014-01-07  2014  \n",
       "420  United_Kingdom    1/4/2016           BA 2016-01-04  2016  \n",
       "419  United_Kingdom   1/10/2016           BA 2016-01-10  2016  \n",
       "\n",
       "[318 rows x 9 columns]"
      ]
     },
     "execution_count": 45,
     "metadata": {},
     "output_type": "execute_result"
    }
   ],
   "source": [
    "sample"
   ]
  },
  {
   "cell_type": "code",
   "execution_count": 46,
   "metadata": {},
   "outputs": [],
   "source": [
    "fasta=sample\n",
    "fasta['taxa']=fasta.apply(lambda x:'%s-%s-%s-%s-%s-%s' % (x['Accession'],x['subtype'],x['year'],x['country'],x['date'],x['genotype_ref']),axis=1)\n",
    "fasta=fasta.filter(['taxa','sequence'], axis=1)\n",
    "#csv to fasta\n",
    "fasta.to_csv(\"temp.tab\", sep=\"\\t\",index = False,header=False)\n",
    "fasta = SeqIO.parse(\"temp.tab\", \"tab\")\n",
    "SeqIO.write(fasta,\"RSVB_F_epicc_subsample1019\", \"fasta\")\n",
    "os.remove(\"temp.tab\")"
   ]
  },
  {
   "cell_type": "code",
   "execution_count": 10,
   "metadata": {},
   "outputs": [],
   "source": [
    "## wrap into a function\n",
    "def epicc_sample(original,n,sampleout ):\n",
    "    df = ph.read_fasta(original)\n",
    "    df = df.filter(['id','sequence'], axis=1)\n",
    "    df[['Accession','subtype',\"country\",\"date\",\"genotype_ref\"]] = df.id.str.split(\"-\",expand=True) \n",
    "    df['date2'] = pd.to_datetime(df['date'],infer_datetime_format=True)\n",
    "    df[\"year\"]=df.date2.dt.year\n",
    "    print(df.groupby(['country', 'year']).size())\n",
    "    sample = df.groupby(['country',df['date2'].dt.year],group_keys=False).apply(lambda x:x.sample(min(len(x),n)))\n",
    "    ## from sample to fasta\n",
    "    fasta=sample\n",
    "    fasta['taxa']=fasta.apply(lambda x:'%s-%s-%s-%s-%s-%s' % (x['Accession'],x['subtype'],x['year'],x['country'],x['date'],x['genotype_ref']),axis=1)\n",
    "    fasta=fasta.filter(['taxa','sequence'], axis=1)\n",
    "    #csv to fasta\n",
    "    fasta.to_csv(\"temp.tab\", sep=\"\\t\",index = False,header=False)\n",
    "    fasta = SeqIO.parse(\"temp.tab\", \"tab\")\n",
    "    SeqIO.write(fasta,sampleout, \"fasta\")\n",
    "    os.remove(\"temp.tab\")\n",
    "    "
   ]
  },
  {
   "cell_type": "code",
   "execution_count": 26,
   "metadata": {},
   "outputs": [
    {
     "name": "stdout",
     "output_type": "stream",
     "text": [
      "country         year\n",
      "Argentina       2006     1\n",
      "                2007     1\n",
      "                2008     1\n",
      "                2015     1\n",
      "                2016     5\n",
      "                        ..\n",
      "United_Kingdom  2012    11\n",
      "                2013     7\n",
      "                2014     2\n",
      "                2016     3\n",
      "Viet_Nam        2009     2\n",
      "Length: 150, dtype: int64\n"
     ]
    }
   ],
   "source": [
    "epicc_sample(\"RAxML/RSVB_G_datev2/HRSVB_G_datev2_clean.fasta\",3,\"RSVB_G_epicc_subsample1112.fasta\")"
   ]
  },
  {
   "cell_type": "code",
   "execution_count": 22,
   "metadata": {},
   "outputs": [
    {
     "name": "stdout",
     "output_type": "stream",
     "text": [
      "country    year\n",
      "Argentina  2004     2\n",
      "           2005     1\n",
      "           2006     1\n",
      "           2007     1\n",
      "           2008     1\n",
      "                   ..\n",
      "USA        2018     3\n",
      "           2019     6\n",
      "Uruguay    1992     1\n",
      "Viet_Nam   2009     3\n",
      "           2010    17\n",
      "Length: 172, dtype: int64\n"
     ]
    }
   ],
   "source": [
    "epicc_sample(\"RAxML/RAxML_date/RAxML_date_RSVA_F/HRSVA_F_date_clean.fasta\",3,\"RSVA_F_epicc_subsample1112.fasta\")"
   ]
  },
  {
   "cell_type": "code",
   "execution_count": 25,
   "metadata": {},
   "outputs": [
    {
     "name": "stdout",
     "output_type": "stream",
     "text": [
      "country    year\n",
      "Argentina  2004     2\n",
      "           2005     1\n",
      "           2006     1\n",
      "           2007     1\n",
      "           2008     1\n",
      "                   ..\n",
      "USA        2013    49\n",
      "           2014     7\n",
      "           2016    15\n",
      "Viet_Nam   2009     3\n",
      "           2010    15\n",
      "Length: 168, dtype: int64\n"
     ]
    }
   ],
   "source": [
    "epicc_sample(\"RAxML/RSVA_G_date2/HRSVA_G_date2_clean.fasta\",3,\"RSVA_G_epicc_subsample1112.fasta\")"
   ]
  },
  {
   "cell_type": "code",
   "execution_count": null,
   "metadata": {},
   "outputs": [],
   "source": []
  }
 ],
 "metadata": {
  "kernelspec": {
   "display_name": "Python 3",
   "language": "python",
   "name": "python3"
  },
  "language_info": {
   "codemirror_mode": {
    "name": "ipython",
    "version": 3
   },
   "file_extension": ".py",
   "mimetype": "text/x-python",
   "name": "python",
   "nbconvert_exporter": "python",
   "pygments_lexer": "ipython3",
   "version": "3.7.6"
  }
 },
 "nbformat": 4,
 "nbformat_minor": 4
}
