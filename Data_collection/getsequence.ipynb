{
 "cells": [
  {
   "cell_type": "code",
   "execution_count": 2,
   "metadata": {},
   "outputs": [],
   "source": [
    "## parse the gene annotation to get G gene and F gene\n",
    "from Bio import SeqIO\n",
    "import os,sys\n",
    "import pandas as pd\n",
    "import phylopandas as ph"
   ]
  },
  {
   "cell_type": "code",
   "execution_count": 3,
   "metadata": {},
   "outputs": [],
   "source": [
    "### parse the annotatio information\n",
    "ano = pd.read_csv('HRSV_0622_Annotations.csv')\n",
    "CDS = ano.loc[ano['Type'] == 'CDS']\n",
    "CDS_name = CDS.groupby(['Name']).count()\n",
    "CDS_name.to_csv(\"HRSV_annotation_CDS.csv\")"
   ]
  },
  {
   "cell_type": "code",
   "execution_count": 8,
   "metadata": {},
   "outputs": [],
   "source": [
    "def getgene(fasta_file, anno_list):\n",
    "    f = open(fasta_file, \"w\")\n",
    "    for rec in SeqIO.parse(\"HRSV_0622.gb\", \"gb\"):\n",
    "        for feature in rec.features:\n",
    "            for key, val in feature.qualifiers.items():\n",
    "                if feature.type == \"CDS\":\n",
    "                    if any (s in val for s in anno_list):\n",
    "                        print (\">\" + rec.id, file=f )\n",
    "                        print (feature.location.extract(rec).seq,file=f)\n",
    "    f.close()"
   ]
  },
  {
   "cell_type": "code",
   "execution_count": 11,
   "metadata": {},
   "outputs": [],
   "source": [
    "def duplicate_remover(fasta_file):\n",
    "    df = ph.read_fasta(fasta_file)\n",
    "    df = df.filter(['id','sequence'], axis=1)\n",
    "    df = df.drop_duplicates()\n",
    "    df.to_csv(\"temp.tab\", sep=\"\\t\",index = False,header=False)\n",
    "    df2= SeqIO.parse(\"temp.tab\", \"tab\")\n",
    "    SeqIO.write(df2, \"rm\"+fasta_file, \"fasta\")\n",
    "    os.remove(\"temp.tab\")\n",
    "    print(\"duplicate records removed!\\n\"+ str(len(df.index))+\" unique records saved from \" + fasta_file)"
   ]
  },
  {
   "cell_type": "code",
   "execution_count": 4,
   "metadata": {},
   "outputs": [],
   "source": [
    "def sequence_cleaner(fasta_file, min_length=0, por_n=100):\n",
    "    output_file = open(\"clear_\" + fasta_file, \"w\")\n",
    "\n",
    "    for seq_record in SeqIO.parse(fasta_file, \"fasta\"):\n",
    "        if (len(seq_record.seq) >= min_length and (float((seq_record.seq).count(\"N\"))/float(len(seq_record.seq)))*100 <= por_n):\n",
    "            output_file.write(\">\" + seq_record.id + \"\\n\" + str(seq_record.seq) + \"\\n\")\n",
    "\n",
    "    print(\"CLEAN!!!\\nPlease check clear_\" + fasta_file)"
   ]
  },
  {
   "cell_type": "code",
   "execution_count": 9,
   "metadata": {},
   "outputs": [],
   "source": [
    "F={\"F\",\n",
    "\"F\",\n",
    "\"f \",\n",
    "\"F glycoprotein \",\n",
    "\"F protein \",\n",
    "\"firefly luciferase \",\n",
    "\"fusion\",\n",
    "\"fusion glycoprotein\",\n",
    "\"fusion protein\",\n",
    "\"fusion protein F\",\n",
    "\"fusion protein precursor\",\n",
    "\"truncated fusion protein\" \n",
    "    \n",
    "}"
   ]
  },
  {
   "cell_type": "code",
   "execution_count": 10,
   "metadata": {},
   "outputs": [],
   "source": [
    "\n",
    "getgene(\"HRSV_F.fasta\",F)"
   ]
  },
  {
   "cell_type": "code",
   "execution_count": 12,
   "metadata": {},
   "outputs": [
    {
     "name": "stdout",
     "output_type": "stream",
     "text": [
      "duplicate records removed!\n",
      "5183 unique records saved from HRSV_F.fasta\n"
     ]
    }
   ],
   "source": [
    "duplicate_remover(\"HRSV_F.fasta\")"
   ]
  },
  {
   "cell_type": "code",
   "execution_count": 5,
   "metadata": {},
   "outputs": [
    {
     "name": "stdout",
     "output_type": "stream",
     "text": [
      "CLEAN!!!\n",
      "Please check clear_rmHRSV_F.fasta\n"
     ]
    }
   ],
   "source": [
    "## length of HRSV F : 2155 bp:\n",
    "sequence_cleaner(\"rmHRSV_F.fasta\",2155*0.7,20)"
   ]
  },
  {
   "cell_type": "code",
   "execution_count": null,
   "metadata": {},
   "outputs": [],
   "source": [
    "## remove the recombinant and artificial constructed strain with sequence id\n"
   ]
  },
  {
   "cell_type": "code",
   "execution_count": null,
   "metadata": {},
   "outputs": [],
   "source": [
    "## get taxa for F gene\n"
   ]
  },
  {
   "cell_type": "code",
   "execution_count": null,
   "metadata": {},
   "outputs": [],
   "source": []
  }
 ],
 "metadata": {
  "kernelspec": {
   "display_name": "Python 3",
   "language": "python",
   "name": "python3"
  },
  "language_info": {
   "codemirror_mode": {
    "name": "ipython",
    "version": 3
   },
   "file_extension": ".py",
   "mimetype": "text/x-python",
   "name": "python",
   "nbconvert_exporter": "python",
   "pygments_lexer": "ipython3",
   "version": "3.7.6"
  }
 },
 "nbformat": 4,
 "nbformat_minor": 4
}
