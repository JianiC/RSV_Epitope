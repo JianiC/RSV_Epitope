{
 "cells": [
  {
   "cell_type": "code",
   "execution_count": 1,
   "metadata": {},
   "outputs": [],
   "source": [
    "from Bio import SeqIO\n",
    "import os,sys\n",
    "import pandas as pd\n",
    "import phylopandas as ph"
   ]
  },
  {
   "cell_type": "code",
   "execution_count": null,
   "metadata": {},
   "outputs": [],
   "source": []
  },
  {
   "cell_type": "code",
   "execution_count": 7,
   "metadata": {},
   "outputs": [
    {
     "name": "stderr",
     "output_type": "stream",
     "text": [
      "/Users/jianichen1/opt/anaconda3/lib/python3.7/site-packages/IPython/core/interactiveshell.py:3063: DtypeWarning: Columns (11) have mixed types.Specify dtype option on import or set low_memory=False.\n",
      "  interactivity=interactivity, compiler=compiler, result=result)\n"
     ]
    },
    {
     "data": {
      "text/plain": [
       "137"
      ]
     },
     "execution_count": 7,
     "metadata": {},
     "output_type": "execute_result"
    }
   ],
   "source": [
    "## convert the dollo csv file to fasta\n",
    "dollo=pd.read_csv(\"iVAX/RSVB_F_sum/RSVB_F_classII_dollo.csv\")\n",
    "## add meta information \n",
    "meta = pd.read_csv(\"Data_collection/HRSV_0622_meta_code_0810.csv\")\n",
    "fasta=pd.merge(dollo, meta, how='left', left_on='Accession', right_on='Accession_x')\n",
    "fasta=fasta.filter(['Accession','dollo',\"collection_date_guess\",\"country_code\",\"year\",\"genotype\"], axis=1)\n",
    "## drop the sane pattern from same year and country\n",
    "fasta=fasta.dropna(subset=['collection_date_guess','country_code'])\n",
    "fasta[\"date\"] = pd.to_datetime(fasta[\"collection_date_guess\"])\n",
    "\n",
    "fasta = fasta.sort_values(by=\"date\")\n",
    "fasta=fasta.drop_duplicates(subset=['dollo','year'])\n",
    "fasta['taxa']=fasta.apply(lambda x:'%s|%s|%s|%s' % \n",
    "                          (x['Accession'],x['collection_date_guess'],x['country_code'],x['genotype']),axis=1)\n",
    "\n",
    "fasta=fasta.filter(['taxa','dollo'], axis=1)\n",
    "## subsample for the test run\n",
    "sample = fasta.sample(frac=0.3)\n",
    "sample\n",
    "sample.to_csv(\"temp.tab\", sep=\"\\t\",index = False,header=False)\n",
    "fasta = SeqIO.parse(\"temp.tab\", \"tab\")\n",
    "\n",
    "SeqIO.write(fasta, \"iVAX/RSVB_F_sum/RSVB_F_test.fasta\", \"fasta\")\n",
    "#os.remove(\"temp.tab\")\n",
    "## covert to a fasta format\n"
   ]
  },
  {
   "cell_type": "code",
   "execution_count": 3,
   "metadata": {},
   "outputs": [],
   "source": [
    "def random_sample(df,n,file):\n",
    "    sample = df.sample(frac=n)\n",
    "    taxa = sample['taxa']\n",
    "    taxa.to_csv(file, header = False, index =False)\n",
    "    "
   ]
  },
  {
   "cell_type": "code",
   "execution_count": 4,
   "metadata": {},
   "outputs": [],
   "source": [
    "##subset the dollo file \n",
    "def subsample(df,n,file):\n",
    "    #Convert 'Date' to a datetime datatype.\n",
    "    df['date'] = pd.to_datetime(df['date'],infer_datetime_format=True)\n",
    "    sample = df.groupby(['country',df['date'].dt.year],group_keys=False).apply(lambda x:x.sample(min(len(x),n)))\n",
    "    taxa = sample['taxa']\n",
    "    ## write taxa to a file\n",
    "    taxa.to_csv(file, header = False, index =False)"
   ]
  },
  {
   "cell_type": "code",
   "execution_count": null,
   "metadata": {},
   "outputs": [],
   "source": []
  },
  {
   "cell_type": "code",
   "execution_count": 23,
   "metadata": {},
   "outputs": [],
   "source": [
    "## convert the dollo csv file to fasta\n",
    "dollo=pd.read_csv(\"iVAX/RSVB_F_sum/RSVB_F_classII_Babel.csv\")\n",
    "## add meta information \n",
    "meta = pd.read_csv(\"Data_collection/HRSV_0622_meta_code_0810.csv\")\n",
    "fasta=pd.merge(dollo, meta, how='left', left_on='Accession', right_on='Accession_x')\n",
    "fasta=fasta.filter(['Accession','Babel',\"collection_date_guess\",\"country_code\",\"year\",\"genotype\"], axis=1)\n",
    "fasta=fasta.dropna(subset=['collection_date_guess','country_code'])\n",
    "fasta[\"date\"] = pd.to_datetime(fasta[\"collection_date_guess\"])\n",
    "\n",
    "fasta = fasta.sort_values(by=\"date\")\n",
    "fasta=fasta.drop_duplicates(subset=['Babel'])\n",
    "fasta['taxa']=fasta.apply(lambda x:'%s|%s|%s|%s' % \n",
    "                          (x['Accession'],x['collection_date_guess'],x['country_code'],x['genotype']),axis=1)\n",
    "fasta=fasta.filter(['taxa','Babel'], axis=1)\n",
    "fasta.to_csv(\"temp.tab\", sep=\"\\t\",index = False,header=False)\n",
    "fasta = SeqIO.parse(\"temp.tab\", \"tab\")\n",
    "fasta\n",
    "SeqIO.write(fasta, \"iVAX/RSVB_F_sum/HRSVB_F_epitope_Babel0818.fasta\", \"fasta\")\n",
    "os.remove(\"temp.tab\")\n",
    "## covert to a fasta format"
   ]
  },
  {
   "cell_type": "code",
   "execution_count": 9,
   "metadata": {},
   "outputs": [],
   "source": [
    "## convert fasta to nexus\n",
    "import dendropy"
   ]
  },
  {
   "cell_type": "code",
   "execution_count": 11,
   "metadata": {},
   "outputs": [
    {
     "ename": "DataParseError",
     "evalue": "Error parsing data source 'iVAX/RSVB_F_sum/RSVB_F_test.fasta' on line 2 at column 1: Unrecognized sequence symbol '0'",
     "output_type": "error",
     "traceback": [
      "\u001b[0;31m---------------------------------------------------------------------------\u001b[0m",
      "\u001b[0;31mKeyError\u001b[0m                                  Traceback (most recent call last)",
      "\u001b[0;32m~/opt/anaconda3/lib/python3.7/site-packages/dendropy/dataio/fastareader.py\u001b[0m in \u001b[0;36m_read\u001b[0;34m(self, stream, taxon_namespace_factory, tree_list_factory, char_matrix_factory, state_alphabet_factory, global_annotations_target)\u001b[0m\n\u001b[1;32m     98\u001b[0m                     \u001b[0;32mtry\u001b[0m\u001b[0;34m:\u001b[0m\u001b[0;34m\u001b[0m\u001b[0;34m\u001b[0m\u001b[0m\n\u001b[0;32m---> 99\u001b[0;31m                         \u001b[0mstate\u001b[0m \u001b[0;34m=\u001b[0m \u001b[0msymbol_state_map\u001b[0m\u001b[0;34m[\u001b[0m\u001b[0mc\u001b[0m\u001b[0;34m]\u001b[0m\u001b[0;34m\u001b[0m\u001b[0;34m\u001b[0m\u001b[0m\n\u001b[0m\u001b[1;32m    100\u001b[0m                     \u001b[0;32mexcept\u001b[0m \u001b[0mKeyError\u001b[0m\u001b[0;34m:\u001b[0m\u001b[0;34m\u001b[0m\u001b[0;34m\u001b[0m\u001b[0m\n",
      "\u001b[0;31mKeyError\u001b[0m: '0'",
      "\nDuring handling of the above exception, another exception occurred:\n",
      "\u001b[0;31mDataParseError\u001b[0m                            Traceback (most recent call last)",
      "\u001b[0;32m<ipython-input-11-d7033eface03>\u001b[0m in \u001b[0;36m<module>\u001b[0;34m\u001b[0m\n\u001b[0;32m----> 1\u001b[0;31m \u001b[0mfasta\u001b[0m \u001b[0;34m=\u001b[0m \u001b[0mdendropy\u001b[0m\u001b[0;34m.\u001b[0m\u001b[0mDnaCharacterMatrix\u001b[0m\u001b[0;34m.\u001b[0m\u001b[0mget\u001b[0m\u001b[0;34m(\u001b[0m\u001b[0mpath\u001b[0m\u001b[0;34m=\u001b[0m\u001b[0;34m\"iVAX/RSVB_F_sum/RSVB_F_test.fasta\"\u001b[0m\u001b[0;34m,\u001b[0m \u001b[0mschema\u001b[0m\u001b[0;34m=\u001b[0m\u001b[0;34m\"fasta\"\u001b[0m\u001b[0;34m)\u001b[0m\u001b[0;34m\u001b[0m\u001b[0;34m\u001b[0m\u001b[0m\n\u001b[0m\u001b[1;32m      2\u001b[0m \u001b[0mfasta\u001b[0m\u001b[0;34m.\u001b[0m\u001b[0mwrite\u001b[0m\u001b[0;34m(\u001b[0m\u001b[0mpath\u001b[0m\u001b[0;34m=\u001b[0m\u001b[0;34m\"iVAX/RSVB_F_sum/RSVB_F_test.nex\"\u001b[0m\u001b[0;34m,\u001b[0m \u001b[0mschema\u001b[0m\u001b[0;34m=\u001b[0m\u001b[0;34m\"nexus\"\u001b[0m\u001b[0;34m)\u001b[0m\u001b[0;34m\u001b[0m\u001b[0;34m\u001b[0m\u001b[0m\n",
      "\u001b[0;32m~/opt/anaconda3/lib/python3.7/site-packages/dendropy/datamodel/charmatrixmodel.py\u001b[0m in \u001b[0;36mget\u001b[0;34m(cls, **kwargs)\u001b[0m\n\u001b[1;32m    604\u001b[0m \u001b[0;34m\u001b[0m\u001b[0m\n\u001b[1;32m    605\u001b[0m         \"\"\"\n\u001b[0;32m--> 606\u001b[0;31m         \u001b[0;32mreturn\u001b[0m \u001b[0mcls\u001b[0m\u001b[0;34m.\u001b[0m\u001b[0m_get_from\u001b[0m\u001b[0;34m(\u001b[0m\u001b[0;34m**\u001b[0m\u001b[0mkwargs\u001b[0m\u001b[0;34m)\u001b[0m\u001b[0;34m\u001b[0m\u001b[0;34m\u001b[0m\u001b[0m\n\u001b[0m\u001b[1;32m    607\u001b[0m \u001b[0;34m\u001b[0m\u001b[0m\n\u001b[1;32m    608\u001b[0m     \u001b[0;32mdef\u001b[0m \u001b[0mconcatenate\u001b[0m\u001b[0;34m(\u001b[0m\u001b[0mcls\u001b[0m\u001b[0;34m,\u001b[0m \u001b[0mchar_matrices\u001b[0m\u001b[0;34m)\u001b[0m\u001b[0;34m:\u001b[0m\u001b[0;34m\u001b[0m\u001b[0;34m\u001b[0m\u001b[0m\n",
      "\u001b[0;32m~/opt/anaconda3/lib/python3.7/site-packages/dendropy/datamodel/basemodel.py\u001b[0m in \u001b[0;36m_get_from\u001b[0;34m(cls, **kwargs)\u001b[0m\n\u001b[1;32m    154\u001b[0m             \u001b[0;32mreturn\u001b[0m \u001b[0mcls\u001b[0m\u001b[0;34m.\u001b[0m\u001b[0mget_from_stream\u001b[0m\u001b[0;34m(\u001b[0m\u001b[0msrc\u001b[0m\u001b[0;34m=\u001b[0m\u001b[0msrc\u001b[0m\u001b[0;34m,\u001b[0m \u001b[0mschema\u001b[0m\u001b[0;34m=\u001b[0m\u001b[0mschema\u001b[0m\u001b[0;34m,\u001b[0m \u001b[0;34m**\u001b[0m\u001b[0mkwargs\u001b[0m\u001b[0;34m)\u001b[0m\u001b[0;34m\u001b[0m\u001b[0;34m\u001b[0m\u001b[0m\n\u001b[1;32m    155\u001b[0m         \u001b[0;32melif\u001b[0m \u001b[0msrc_type\u001b[0m \u001b[0;34m==\u001b[0m \u001b[0;34m\"path\"\u001b[0m\u001b[0;34m:\u001b[0m\u001b[0;34m\u001b[0m\u001b[0;34m\u001b[0m\u001b[0m\n\u001b[0;32m--> 156\u001b[0;31m             \u001b[0;32mreturn\u001b[0m \u001b[0mcls\u001b[0m\u001b[0;34m.\u001b[0m\u001b[0mget_from_path\u001b[0m\u001b[0;34m(\u001b[0m\u001b[0msrc\u001b[0m\u001b[0;34m=\u001b[0m\u001b[0msrc\u001b[0m\u001b[0;34m,\u001b[0m \u001b[0mschema\u001b[0m\u001b[0;34m=\u001b[0m\u001b[0mschema\u001b[0m\u001b[0;34m,\u001b[0m \u001b[0;34m**\u001b[0m\u001b[0mkwargs\u001b[0m\u001b[0;34m)\u001b[0m\u001b[0;34m\u001b[0m\u001b[0;34m\u001b[0m\u001b[0m\n\u001b[0m\u001b[1;32m    157\u001b[0m         \u001b[0;32melif\u001b[0m \u001b[0msrc_type\u001b[0m \u001b[0;34m==\u001b[0m \u001b[0;34m\"data\"\u001b[0m \u001b[0;32mor\u001b[0m \u001b[0msrc_type\u001b[0m \u001b[0;34m==\u001b[0m \u001b[0;34m\"string\"\u001b[0m\u001b[0;34m:\u001b[0m\u001b[0;34m\u001b[0m\u001b[0;34m\u001b[0m\u001b[0m\n\u001b[1;32m    158\u001b[0m             \u001b[0;32mreturn\u001b[0m \u001b[0mcls\u001b[0m\u001b[0;34m.\u001b[0m\u001b[0mget_from_string\u001b[0m\u001b[0;34m(\u001b[0m\u001b[0msrc\u001b[0m\u001b[0;34m=\u001b[0m\u001b[0msrc\u001b[0m\u001b[0;34m,\u001b[0m \u001b[0mschema\u001b[0m\u001b[0;34m=\u001b[0m\u001b[0mschema\u001b[0m\u001b[0;34m,\u001b[0m \u001b[0;34m**\u001b[0m\u001b[0mkwargs\u001b[0m\u001b[0;34m)\u001b[0m\u001b[0;34m\u001b[0m\u001b[0;34m\u001b[0m\u001b[0m\n",
      "\u001b[0;32m~/opt/anaconda3/lib/python3.7/site-packages/dendropy/datamodel/basemodel.py\u001b[0m in \u001b[0;36mget_from_path\u001b[0;34m(cls, src, schema, **kwargs)\u001b[0m\n\u001b[1;32m    217\u001b[0m             return cls._parse_and_create_from_stream(stream=fsrc,\n\u001b[1;32m    218\u001b[0m                     \u001b[0mschema\u001b[0m\u001b[0;34m=\u001b[0m\u001b[0mschema\u001b[0m\u001b[0;34m,\u001b[0m\u001b[0;34m\u001b[0m\u001b[0;34m\u001b[0m\u001b[0m\n\u001b[0;32m--> 219\u001b[0;31m                     **kwargs)\n\u001b[0m\u001b[1;32m    220\u001b[0m     \u001b[0mget_from_path\u001b[0m \u001b[0;34m=\u001b[0m \u001b[0mclassmethod\u001b[0m\u001b[0;34m(\u001b[0m\u001b[0mget_from_path\u001b[0m\u001b[0;34m)\u001b[0m\u001b[0;34m\u001b[0m\u001b[0;34m\u001b[0m\u001b[0m\n\u001b[1;32m    221\u001b[0m \u001b[0;34m\u001b[0m\u001b[0m\n",
      "\u001b[0;32m~/opt/anaconda3/lib/python3.7/site-packages/dendropy/datamodel/charmatrixmodel.py\u001b[0m in \u001b[0;36m_parse_and_create_from_stream\u001b[0;34m(cls, stream, schema, matrix_offset, **kwargs)\u001b[0m\n\u001b[1;32m    525\u001b[0m                 \u001b[0mchar_matrix_factory\u001b[0m\u001b[0;34m=\u001b[0m\u001b[0mnew_char_matrix\u001b[0m\u001b[0;34m,\u001b[0m\u001b[0;34m\u001b[0m\u001b[0;34m\u001b[0m\u001b[0m\n\u001b[1;32m    526\u001b[0m                 \u001b[0mstate_alphabet_factory\u001b[0m\u001b[0;34m=\u001b[0m\u001b[0mcharstatemodel\u001b[0m\u001b[0;34m.\u001b[0m\u001b[0mStateAlphabet\u001b[0m\u001b[0;34m,\u001b[0m\u001b[0;34m\u001b[0m\u001b[0;34m\u001b[0m\u001b[0m\n\u001b[0;32m--> 527\u001b[0;31m                 global_annotations_target=None)\n\u001b[0m\u001b[1;32m    528\u001b[0m         \u001b[0;32mif\u001b[0m \u001b[0mlen\u001b[0m\u001b[0;34m(\u001b[0m\u001b[0mchar_matrices\u001b[0m\u001b[0;34m)\u001b[0m \u001b[0;34m==\u001b[0m \u001b[0;36m0\u001b[0m\u001b[0;34m:\u001b[0m\u001b[0;34m\u001b[0m\u001b[0;34m\u001b[0m\u001b[0m\n\u001b[1;32m    529\u001b[0m             \u001b[0;32mraise\u001b[0m \u001b[0mValueError\u001b[0m\u001b[0;34m(\u001b[0m\u001b[0;34m\"No character data in data source\"\u001b[0m\u001b[0;34m)\u001b[0m\u001b[0;34m\u001b[0m\u001b[0;34m\u001b[0m\u001b[0m\n",
      "\u001b[0;32m~/opt/anaconda3/lib/python3.7/site-packages/dendropy/dataio/ioservice.py\u001b[0m in \u001b[0;36mread_char_matrices\u001b[0;34m(self, stream, taxon_namespace_factory, char_matrix_factory, state_alphabet_factory, global_annotations_target)\u001b[0m\n\u001b[1;32m    375\u001b[0m                 \u001b[0mchar_matrix_factory\u001b[0m\u001b[0;34m=\u001b[0m\u001b[0mchar_matrix_factory\u001b[0m\u001b[0;34m,\u001b[0m\u001b[0;34m\u001b[0m\u001b[0;34m\u001b[0m\u001b[0m\n\u001b[1;32m    376\u001b[0m                 \u001b[0mstate_alphabet_factory\u001b[0m\u001b[0;34m=\u001b[0m\u001b[0mstate_alphabet_factory\u001b[0m\u001b[0;34m,\u001b[0m\u001b[0;34m\u001b[0m\u001b[0;34m\u001b[0m\u001b[0m\n\u001b[0;32m--> 377\u001b[0;31m                 global_annotations_target=global_annotations_target)\n\u001b[0m\u001b[1;32m    378\u001b[0m         \u001b[0;32mreturn\u001b[0m \u001b[0mproduct\u001b[0m\u001b[0;34m.\u001b[0m\u001b[0mchar_matrices\u001b[0m\u001b[0;34m\u001b[0m\u001b[0;34m\u001b[0m\u001b[0m\n\u001b[1;32m    379\u001b[0m \u001b[0;34m\u001b[0m\u001b[0m\n",
      "\u001b[0;32m~/opt/anaconda3/lib/python3.7/site-packages/dendropy/dataio/fastareader.py\u001b[0m in \u001b[0;36m_read\u001b[0;34m(self, stream, taxon_namespace_factory, tree_list_factory, char_matrix_factory, state_alphabet_factory, global_annotations_target)\u001b[0m\n\u001b[1;32m     99\u001b[0m                         \u001b[0mstate\u001b[0m \u001b[0;34m=\u001b[0m \u001b[0msymbol_state_map\u001b[0m\u001b[0;34m[\u001b[0m\u001b[0mc\u001b[0m\u001b[0;34m]\u001b[0m\u001b[0;34m\u001b[0m\u001b[0;34m\u001b[0m\u001b[0m\n\u001b[1;32m    100\u001b[0m                     \u001b[0;32mexcept\u001b[0m \u001b[0mKeyError\u001b[0m\u001b[0;34m:\u001b[0m\u001b[0;34m\u001b[0m\u001b[0;34m\u001b[0m\u001b[0m\n\u001b[0;32m--> 101\u001b[0;31m                         \u001b[0;32mraise\u001b[0m \u001b[0mDataParseError\u001b[0m\u001b[0;34m(\u001b[0m\u001b[0mmessage\u001b[0m\u001b[0;34m=\u001b[0m\u001b[0;34m\"Unrecognized sequence symbol '{}'\"\u001b[0m\u001b[0;34m.\u001b[0m\u001b[0mformat\u001b[0m\u001b[0;34m(\u001b[0m\u001b[0mc\u001b[0m\u001b[0;34m)\u001b[0m\u001b[0;34m,\u001b[0m \u001b[0mline_num\u001b[0m\u001b[0;34m=\u001b[0m\u001b[0mline_index\u001b[0m \u001b[0;34m+\u001b[0m \u001b[0;36m1\u001b[0m\u001b[0;34m,\u001b[0m \u001b[0mcol_num\u001b[0m\u001b[0;34m=\u001b[0m\u001b[0mcol_ind\u001b[0m \u001b[0;34m+\u001b[0m \u001b[0;36m1\u001b[0m\u001b[0;34m,\u001b[0m \u001b[0mstream\u001b[0m\u001b[0;34m=\u001b[0m\u001b[0mstream\u001b[0m\u001b[0;34m)\u001b[0m\u001b[0;34m\u001b[0m\u001b[0;34m\u001b[0m\u001b[0m\n\u001b[0m\u001b[1;32m    102\u001b[0m                     \u001b[0mstates\u001b[0m\u001b[0;34m.\u001b[0m\u001b[0mappend\u001b[0m\u001b[0;34m(\u001b[0m\u001b[0mstate\u001b[0m\u001b[0;34m)\u001b[0m\u001b[0;34m\u001b[0m\u001b[0;34m\u001b[0m\u001b[0m\n\u001b[1;32m    103\u001b[0m                 \u001b[0mcurr_vec\u001b[0m\u001b[0;34m.\u001b[0m\u001b[0mextend\u001b[0m\u001b[0;34m(\u001b[0m\u001b[0mstates\u001b[0m\u001b[0;34m)\u001b[0m\u001b[0;34m\u001b[0m\u001b[0;34m\u001b[0m\u001b[0m\n",
      "\u001b[0;31mDataParseError\u001b[0m: Error parsing data source 'iVAX/RSVB_F_sum/RSVB_F_test.fasta' on line 2 at column 1: Unrecognized sequence symbol '0'"
     ]
    }
   ],
   "source": [
    "fasta = dendropy.DnaCharacterMatrix.get(path=\"iVAX/RSVB_F_sum/RSVB_F_test.fasta\", schema=\"fasta\")\n",
    "fasta.write(path=\"iVAX/RSVB_F_sum/RSVB_F_test.nex\", schema=\"nexus\")"
   ]
  },
  {
   "cell_type": "code",
   "execution_count": null,
   "metadata": {},
   "outputs": [],
   "source": []
  }
 ],
 "metadata": {
  "kernelspec": {
   "display_name": "Python 3",
   "language": "python",
   "name": "python3"
  },
  "language_info": {
   "codemirror_mode": {
    "name": "ipython",
    "version": 3
   },
   "file_extension": ".py",
   "mimetype": "text/x-python",
   "name": "python",
   "nbconvert_exporter": "python",
   "pygments_lexer": "ipython3",
   "version": "3.7.6"
  }
 },
 "nbformat": 4,
 "nbformat_minor": 4
}
