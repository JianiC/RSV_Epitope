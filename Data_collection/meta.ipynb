{
 "cells": [
  {
   "cell_type": "code",
   "execution_count": 1,
   "metadata": {},
   "outputs": [],
   "source": [
    "### Combined metadata \n",
    "from Bio import SeqIO\n",
    "import os,sys\n",
    "import pandas as pd\n",
    "import phylopandas as ph\n",
    "import numpy as np"
   ]
  },
  {
   "cell_type": "code",
   "execution_count": 13,
   "metadata": {},
   "outputs": [],
   "source": [
    "## add genotype ref\n",
    "meta = pd.read_csv('HRSV_0622.csv')\n",
    "## tab deleiminated text file \n",
    "genotype = pd.read_csv(\"Gbmunge/HRSV_0622_gbmeta.txt\",sep='\\t', lineterminator='\\r')\n",
    "\n",
    "meta2= pd.merge(meta, genotype, how='left', left_on='Accession', right_on='accession')\n",
    "\n",
    "## add subtype infor\n",
    "subtype = pd.read_csv(\"HRSV_subtype.txt\",sep='\\t')\n",
    "subtype[['accession','version']] = subtype.Accession.str.split(\".\",expand=True)\n",
    "subtype\n",
    "meta3= pd.merge(meta2, subtype, how='left', left_on='Accession', right_on='accession')\n",
    "meta3.to_csv(\"HRSV_0622_meta.csv\", index = False)"
   ]
  },
  {
   "cell_type": "code",
   "execution_count": 19,
   "metadata": {},
   "outputs": [],
   "source": [
    "## code the taxa with metadata\n",
    "\n",
    "def taxa(meta_file,fasta_file,output):\n",
    "    meta = pd.read_csv(meta_file)\n",
    "    \n",
    "    df = ph.read_fasta(fasta_file)\n",
    "    df = df.filter(['id','sequence'], axis=1)\n",
    "    df[['Accession','version']] = df.id.str.split(\".\",expand=True) \n",
    "    df = df.filter(['Accession','sequence'])\n",
    "    \n",
    "    fasta=pd.merge(df, meta, how='left', left_on='Accession', right_on='Accession_x')\n",
    "    fasta['taxa']=fasta.apply(lambda x:'%s-%s-%s-%s-%s' % (x['Accession_x'],x['Subtype'],x['country_code'],x['Collection_Date_code'],x['genotype_ref']),axis=1)\n",
    "    fasta=fasta.filter(['taxa','sequence'], axis=1)\n",
    "    fasta.to_csv(\"temp.tab\", sep=\"\\t\",index = False,header=False)\n",
    "    fasta = SeqIO.parse(\"temp.tab\", \"tab\")\n",
    "    SeqIO.write(fasta, output, \"fasta\")\n",
    "    os.remove(\"temp.tab\")\n",
    "    print(\"All taxa in \"+ fasta_file + \" have been renamed!\")"
   ]
  },
  {
   "cell_type": "code",
   "execution_count": 20,
   "metadata": {},
   "outputs": [
    {
     "name": "stdout",
     "output_type": "stream",
     "text": [
      "All taxa in clear_rmHRSV_F.fasta have been renamed!\n"
     ]
    }
   ],
   "source": [
    "taxa('HRSV_0622_meta_code_0627.csv','clear_rmHRSV_F.fasta','HRSV_F_taxa_0624.fasta')"
   ]
  },
  {
   "cell_type": "code",
   "execution_count": 13,
   "metadata": {},
   "outputs": [],
   "source": [
    "## remove artifical sequence with shell script\n",
    "##`sh rm_taxa.sh HRSV_F_taxa_0624.fasta HRSV_artificial_acession.txt > HRSV_F_0627clean.fasta`"
   ]
  },
  {
   "cell_type": "code",
   "execution_count": 21,
   "metadata": {},
   "outputs": [],
   "source": [
    "## seperate sequence based on the avaliable subtype information\n",
    "def subsetAB(fasta,outputA,outputB):\n",
    "    df = ph.read_fasta(fasta)\n",
    "    df = df.filter(['id','sequence'], axis=1)\n",
    "    df[['Accession','Subtype','country_code','collection_date','genotype_ref']] = df.id.str.split(\"-\",expand=True)\n",
    "    check =df[pd.isnull(df['Subtype'])]\n",
    "    if check.empty == True:\n",
    "        print (\"Sequence are seperate into subtype A and B !!!\")\n",
    "        RSVA = df[df['Subtype'] =='A']\n",
    "        RSVA = RSVA.filter(['id','sequence'], axis=1)\n",
    "        RSVA.to_csv(\"temp.tab\", sep=\"\\t\",index = False,header=False)\n",
    "        RSVA = SeqIO.parse(\"temp.tab\", \"tab\")\n",
    "        SeqIO.write(RSVA, outputA, \"fasta\")\n",
    "    \n",
    "        RSVB = df[df['Subtype'] =='B']\n",
    "        RSVB = RSVB.filter(['id','sequence'], axis=1)\n",
    "        RSVB.to_csv(\"temp.tab\", sep=\"\\t\",index = False,header=False)\n",
    "        RSVB = SeqIO.parse(\"temp.tab\", \"tab\")\n",
    "        SeqIO.write(RSVB, outputB, \"fasta\")\n",
    "        os.remove(\"temp.tab\")\n",
    "    \n",
    "    else:\n",
    "        print(\"Sequence without subtype has been found!!!\")\n",
    "        print(check)"
   ]
  },
  {
   "cell_type": "code",
   "execution_count": 23,
   "metadata": {},
   "outputs": [
    {
     "name": "stdout",
     "output_type": "stream",
     "text": [
      "Sequence are seperate into subtype A and B !!!\n"
     ]
    }
   ],
   "source": [
    "subsetAB(\"HRSV_F_clean0627.fasta\",\"HRSVA_F_clean0627.fasta\",\"HRSVB_F_clean_0627.fasta\")"
   ]
  },
  {
   "cell_type": "code",
   "execution_count": null,
   "metadata": {},
   "outputs": [],
   "source": []
  }
 ],
 "metadata": {
  "kernelspec": {
   "display_name": "Python 3",
   "language": "python",
   "name": "python3"
  },
  "language_info": {
   "codemirror_mode": {
    "name": "ipython",
    "version": 3
   },
   "file_extension": ".py",
   "mimetype": "text/x-python",
   "name": "python",
   "nbconvert_exporter": "python",
   "pygments_lexer": "ipython3",
   "version": "3.7.6"
  }
 },
 "nbformat": 4,
 "nbformat_minor": 4
}
