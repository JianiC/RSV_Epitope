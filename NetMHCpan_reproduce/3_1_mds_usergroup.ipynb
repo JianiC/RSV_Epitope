{
 "cells": [
  {
   "cell_type": "code",
   "execution_count": 2,
   "metadata": {},
   "outputs": [],
   "source": [
    "import pandas as pd\n",
    "import numpy as np\n",
    "from sklearn.manifold import MDS\n",
    "from matplotlib import pyplot as plt\n",
    "import sklearn.datasets as dt\n",
    "import seaborn as sns         \n",
    "from sklearn.metrics.pairwise import manhattan_distances, euclidean_distances\n",
    "from matplotlib.offsetbox import OffsetImage, AnnotationBbox\n",
    "## k means to find the best number of group\n",
    "from sklearn.preprocessing import MinMaxScaler\n",
    "from sklearn.cluster import KMeans\n",
    "import argparse\n"
   ]
  },
  {
   "cell_type": "code",
   "execution_count": 3,
   "metadata": {},
   "outputs": [
    {
     "ename": "NameError",
     "evalue": "name 'fullmatrix' is not defined",
     "output_type": "error",
     "traceback": [
      "\u001b[0;31m---------------------------------------------------------------------------\u001b[0m",
      "\u001b[0;31mNameError\u001b[0m                                 Traceback (most recent call last)",
      "\u001b[0;32m<ipython-input-3-bd11b2c3960e>\u001b[0m in \u001b[0;36m<module>\u001b[0;34m\u001b[0m\n\u001b[1;32m      8\u001b[0m \u001b[0;34m\u001b[0m\u001b[0m\n\u001b[1;32m      9\u001b[0m \u001b[0;31m## get data that generated a full matrix from distance dataframe\u001b[0m\u001b[0;34m\u001b[0m\u001b[0;34m\u001b[0m\u001b[0;34m\u001b[0m\u001b[0m\n\u001b[0;32m---> 10\u001b[0;31m \u001b[0mdata\u001b[0m \u001b[0;34m=\u001b[0m \u001b[0mfullmatrix\u001b[0m\u001b[0;34m(\u001b[0m\u001b[0mdata1\u001b[0m\u001b[0;34m)\u001b[0m\u001b[0;34m\u001b[0m\u001b[0;34m\u001b[0m\u001b[0m\n\u001b[0m\u001b[1;32m     11\u001b[0m \u001b[0;31m## perform MDS\u001b[0m\u001b[0;34m\u001b[0m\u001b[0;34m\u001b[0m\u001b[0;34m\u001b[0m\u001b[0m\n\u001b[1;32m     12\u001b[0m \u001b[0mmds\u001b[0m \u001b[0;34m=\u001b[0m \u001b[0mMDS\u001b[0m\u001b[0;34m(\u001b[0m\u001b[0mn_components\u001b[0m\u001b[0;34m=\u001b[0m\u001b[0;36m2\u001b[0m\u001b[0;34m,\u001b[0m \u001b[0mdissimilarity\u001b[0m\u001b[0;34m=\u001b[0m\u001b[0;34m\"precomputed\"\u001b[0m\u001b[0;34m,\u001b[0m \u001b[0mrandom_state\u001b[0m\u001b[0;34m=\u001b[0m\u001b[0;36m0\u001b[0m\u001b[0;34m)\u001b[0m\u001b[0;31m## create mds module\u001b[0m\u001b[0;34m\u001b[0m\u001b[0;34m\u001b[0m\u001b[0m\n",
      "\u001b[0;31mNameError\u001b[0m: name 'fullmatrix' is not defined"
     ]
    }
   ],
   "source": [
    "## Show MDS map\n",
    "## print strain cluster and coordinate on the map\n",
    "data1 = pd.read_csv(\"netMHCpan_out copy/RSVA_F_test_dist.csv\")\n",
    "#data1=data1.groupby(['seq1','seq2'])['epitope_distance'].sum().reset_index()\n",
    "## filter vaccine strain\n",
    "#data1 = data1[(data1['seq1'] != 'RSVB_pda_ancest') & (data1['seq2'] != 'RSVB_pda_ancest') &\n",
    "#             (data1['seq1'] != 'AF013255_vaccin') & (data1['seq2'] != 'AF013255_vaccin')]\n",
    "\n",
    "## get data that generated a full matrix from distance dataframe\n",
    "data = fullmatrix(data1)\n",
    "## perform MDS\n",
    "mds = MDS(n_components=2, dissimilarity=\"precomputed\", random_state=0)## create mds module\n",
    "results = mds.fit(data)\n",
    "coords = results.embedding_\n",
    "strain = data.columns\n",
    "\n",
    "meta = pd.read_csv(\"RSVA_F_meta.csv\")\n",
    "## print MDS image\n"
   ]
  },
  {
   "cell_type": "code",
   "execution_count": null,
   "metadata": {},
   "outputs": [],
   "source": [
    "## from distance dataframe to generate a full matrix\n",
    "def fullmatrix(df1):\n",
    "    df2 = df1 \n",
    "    data=pd.concat([df1,df2.rename(columns={'seq1':'seq2','seq2':'seq1'})], ignore_index=True) ## concate but switch seq1 and seq2\n",
    "    #data= data.filter(['seq1','seq2','epitope_distance'])\n",
    "    data= data.pivot_table(index='seq1',columns='seq2',values='epitope_distance')\n",
    "    data=data.fillna(0)\n",
    "    return(data)"
   ]
  },
  {
   "cell_type": "code",
   "execution_count": null,
   "metadata": {},
   "outputs": [],
   "source": [
    "## print MDS use user define group\n",
    "## print strain and coordinate\n",
    "def mdsplot_usergroup(strain, coords,meta):\n",
    "    df=pd.DataFrame({'strain':strain, 'mds1':coords[:, 0], 'mds2': coords[:, 1]})\n",
    "    df_meta = pd.merge(df, meta, on='strain')\n",
    "    ## plot\n",
    "    fig, ax = plt.subplots(figsize=(10, 10))\n",
    "    ax = sns.scatterplot(data = df_meta, x=\"mds1\", y=\"mds2\", hue=\"group\", cmap='rainbow')\n",
    "    fig.savefig('mds_usergroup.png')   # save the figure to file\n",
    "    plt.close(fig)    # close the figure window\n",
    "    \n",
    "\n",
    "\n"
   ]
  },
  {
   "cell_type": "code",
   "execution_count": null,
   "metadata": {},
   "outputs": [],
   "source": [
    "def mdsplot_kmeans(strain, coords,meta):\n",
    "    df=pd.DataFrame({'strain':strain, 'mds1':coords[:, 0], 'mds2': coords[:, 1]})\n",
    "    df_meta = pd.merge(df, meta, on='strain')\n",
    "    ## plot\n",
    "    fig, ax = plt.subplots(figsize=(10, 10))\n",
    "    ax = sns.scatterplot(data = df_meta, x=\"mds1\", y=\"mds2\", hue=\"group\", cmap='rainbow')\n",
    "    fig.savefig('mds_usergroup.png')   # save the figure to file\n",
    "    plt.close(fig)    # close the figure window"
   ]
  },
  {
   "cell_type": "code",
   "execution_count": null,
   "metadata": {},
   "outputs": [],
   "source": [
    "mms = MinMaxScaler()\n",
    "mms.fit(data)\n",
    "data_transformed = mms.transform(data)\n",
    "\n",
    "Sum_of_squared_distances = []\n",
    "K = range(1,15)\n",
    "for k in K:\n",
    "    km = KMeans(n_clusters=k)\n",
    "    km = km.fit(data_transformed)\n",
    "    Sum_of_squared_distances.append(km.inertia_)\n",
    "    \n",
    "    \n",
    "plt.plot(K, Sum_of_squared_distances, 'bx-')\n",
    "plt.xlabel('k')\n",
    "plt.ylabel('Sum_of_squared_distances')\n",
    "plt.title('Elbow Method For Optimal k')\n",
    "plt.show()"
   ]
  },
  {
   "cell_type": "code",
   "execution_count": null,
   "metadata": {},
   "outputs": [],
   "source": [
    "kmeans = KMeans(n_clusters = 3, random_state = 0)\n",
    "cluster=kmeans.fit(coords)\n",
    "plt.scatter(coords[:,0],coords[:,1], c=kmeans.labels_, cmap='rainbow')"
   ]
  },
  {
   "cell_type": "code",
   "execution_count": null,
   "metadata": {},
   "outputs": [],
   "source": [
    "## plot the optimal number of K-means cluster"
   ]
  },
  {
   "cell_type": "code",
   "execution_count": null,
   "metadata": {},
   "outputs": [],
   "source": [
    "def main():\n",
    "    \n",
    "    parser = argparse.ArgumentParser()\n",
    "    parser.add_argument('-i', '--input', required = True)  ## input is the netMPHpan xlsx for multiple sequence but single allel\n",
    "    parser.add_argument(\"-m\", \"--meta\",required= False,\n",
    "                    help= \"user defined csv file\")\n",
    "    #parser.add_argument('-o', '--output', required=True) ## output is the mds coordiant\n",
    "    args = parser.parse_args()\n",
    "    print(args.input, 'is input, ', args.output, 'output.', args.meta, \"user defined groups\")\n",
    "    ## get data that generated a full matrix from distance dataframe\n",
    "    data = fullmatrix(data1)\n",
    "    ## perform MDS\n",
    "    mds = MDS(n_components=2, dissimilarity=\"precomputed\", random_state=0)## create mds module\n",
    "    results = mds.fit(data)\n",
    "    coords = results.embedding_\n",
    "    strain = data.columns\n",
    "    meta = pd.read_csv(args.meta)\n",
    "    if args.meta:\n",
    "        mdsplot_usergroup(strain,coords,meta)\n",
    "    \n",
    "\n",
    "\n",
    "main()"
   ]
  },
  {
   "cell_type": "code",
   "execution_count": null,
   "metadata": {},
   "outputs": [],
   "source": []
  }
 ],
 "metadata": {
  "kernelspec": {
   "display_name": "Python 3 (ipykernel)",
   "language": "python",
   "name": "python3"
  },
  "language_info": {
   "codemirror_mode": {
    "name": "ipython",
    "version": 3
   },
   "file_extension": ".py",
   "mimetype": "text/x-python",
   "name": "python",
   "nbconvert_exporter": "python",
   "pygments_lexer": "ipython3",
   "version": "3.9.13"
  }
 },
 "nbformat": 4,
 "nbformat_minor": 4
}
