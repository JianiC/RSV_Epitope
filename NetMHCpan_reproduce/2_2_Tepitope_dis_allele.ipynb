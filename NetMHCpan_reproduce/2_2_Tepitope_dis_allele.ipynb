{
 "cells": [
  {
   "cell_type": "code",
   "execution_count": 17,
   "metadata": {},
   "outputs": [],
   "source": [
    "import pandas as pd\n",
    "import numpy as np\n",
    "import sys\n",
    "import re\n",
    "from progressbar import ProgressBar\n",
    "import argparse\n",
    "#import multiprocessing as mp"
   ]
  },
  {
   "cell_type": "code",
   "execution_count": 18,
   "metadata": {},
   "outputs": [],
   "source": [
    "def core_tcrf(core):\n",
    "    core_tcrf = f'___{core[3]}{core[4]}{core[5]}{core[6]}{core[7]}_'\n",
    "    return core_tcrf"
   ]
  },
  {
   "cell_type": "code",
   "execution_count": 19,
   "metadata": {},
   "outputs": [],
   "source": [
    "## non-cross conserved  class I eptiopes determined by TCRf 4,5,6,7,8\n",
    "def epitope_distance(core1,core2,score1,score2):\n",
    "    if core1[3]==core2[3] and core1[4]==core2[4] and core1[5]==core2[5] and core1[6]==core2[6] and core1[7]==core2[7]:\n",
    "        return 0\n",
    "    else:\n",
    "        return score1+score2"
   ]
  },
  {
   "cell_type": "code",
   "execution_count": 20,
   "metadata": {},
   "outputs": [],
   "source": [
    "## example to calculate sequence distance with seq[1] and seq[2]\n",
    "## i and are j are the index of seq list\n",
    "\n",
    "def seq_dist(df_epitope,i,j):\n",
    "    seq = df_epitope.ID.unique()\n",
    "    seq1_epitope = df_epitope.loc[df_epitope['ID']==seq[i]]\n",
    "    seq2_epitope = df_epitope.loc[df_epitope['ID']==seq[j]]\n",
    "    epitope_compare = pd.merge(seq1_epitope, seq2_epitope, how=\"outer\", on=[\"Pos\",\"core_tcrf\"])\n",
    "    epitope_compare['EL-score_x']=epitope_compare['EL-score_x'].fillna(0)\n",
    "    epitope_compare['EL-score_y']=epitope_compare['EL-score_y'].fillna(0)\n",
    "    epitope_compare['core_x']=epitope_compare['core_x'].fillna('---------')\n",
    "    epitope_compare['core_y']=epitope_compare['core_y'].fillna('---------')\n",
    "    epitope_compare['epi_dist'] = epitope_compare.apply(lambda x: epitope_distance(str(x['core_x']),str(x['core_y']),x['EL-score_x'],x['EL-score_y']), axis =1)\n",
    "    seq_distance = epitope_compare['epi_dist'].sum()\n",
    "    return(seq_distance)\n"
   ]
  },
  {
   "cell_type": "code",
   "execution_count": 21,
   "metadata": {},
   "outputs": [],
   "source": [
    "## loop through all seqs in the eitope prediction dataframe to get the no-conserved epitope distance\n",
    "\n",
    "def non_conserved_d(df_epitope):\n",
    "    pbar = ProgressBar()\n",
    "    seq = df_epitope.ID.unique()\n",
    "    seq_distance=[]\n",
    "    for i in pbar(range(len(seq))):\n",
    "        for j in range(len(seq)):\n",
    "            if i<j:\n",
    "                distance = seq_dist(df_epitope,i,j)\n",
    "                seq_distance.append([seq[i], seq[j], distance])                \n",
    "                df_distance = pd.DataFrame(seq_distance, columns=[\"seq1\", \"seq2\",\"epitope_distance\"])           \n",
    "    return(df_distance)\n"
   ]
  },
  {
   "cell_type": "code",
   "execution_count": 22,
   "metadata": {},
   "outputs": [],
   "source": [
    "def get_allele(allel_xls):\n",
    "    with open(allel_xls, \"r\") as file:\n",
    "        first_line = file.readline()\n",
    "        allele=re.sub(r\"\\t|\\n\", \"\", first_line)\n",
    "    return allele    "
   ]
  },
  {
   "cell_type": "code",
   "execution_count": 24,
   "metadata": {},
   "outputs": [
    {
     "name": "stderr",
     "output_type": "stream",
     "text": [
      "/Users/jianichen1/opt/anaconda3/lib/python3.7/site-packages/ipykernel_launcher.py:17: SettingWithCopyWarning: \n",
      "A value is trying to be set on a copy of a slice from a DataFrame.\n",
      "Try using .loc[row_indexer,col_indexer] = value instead\n",
      "\n",
      "See the caveats in the documentation: https://pandas.pydata.org/pandas-docs/stable/user_guide/indexing.html#returning-a-view-versus-a-copy\n",
      "100% |########################################################################|\n"
     ]
    }
   ],
   "source": [
    "def main():\n",
    "    \n",
    "    parser = argparse.ArgumentParser()\n",
    "    parser.add_argument('-i', '--input', required = True)  ## input is the netMPHpan xlsx for multiple sequence but single allel\n",
    "    parser.add_argument('-o', '--output', required=True) ## output is the distance matrisx for each allele, required output csv name\n",
    "    args = parser.parse_args()\n",
    "    print(args.input, 'is input, ', args.output, 'output.')\n",
    "    \n",
    "    ## input is the netMPHpan xlsx for multiple sequence but single allel\n",
    "    ## for single allel, load the xls file and filter by cutoff\n",
    "    data = pd.read_csv(args.input,sep=\"\\t\",skiprows=1)\n",
    "    data_epitope = data.loc[data['EL_Rank'] <2] \n",
    "    data_epitope['core_tcrf'] = data_epitope.apply(lambda x:core_tcrf(x['core']),axis=1)\n",
    "    # . df_epitope.to_csv(output,index=False)\n",
    "    ## calculate distance\n",
    "    seq_epidist=non_conserved_d(data_epitope)\n",
    "    allele=get_allele(args.input)\n",
    "    seq_epidist['allele']=allele\n",
    "    seq_epidist.to_csv(args.output,index=False)\n",
    "\n",
    "main()"
   ]
  },
  {
   "cell_type": "code",
   "execution_count": null,
   "metadata": {},
   "outputs": [],
   "source": []
  }
 ],
 "metadata": {
  "kernelspec": {
   "display_name": "Python 3",
   "language": "python",
   "name": "python3"
  },
  "language_info": {
   "codemirror_mode": {
    "name": "ipython",
    "version": 3
   },
   "file_extension": ".py",
   "mimetype": "text/x-python",
   "name": "python",
   "nbconvert_exporter": "python",
   "pygments_lexer": "ipython3",
   "version": "3.7.6"
  }
 },
 "nbformat": 4,
 "nbformat_minor": 5
}
