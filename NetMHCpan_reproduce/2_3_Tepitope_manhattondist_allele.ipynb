{
 "cells": [
  {
   "cell_type": "code",
   "execution_count": 15,
   "metadata": {},
   "outputs": [],
   "source": [
    "import pandas as pd\n",
    "import numpy as np\n",
    "import sys\n",
    "from scipy.spatial.distance import cityblock\n",
    "from progressbar import ProgressBar\n",
    "import argparse"
   ]
  },
  {
   "cell_type": "code",
   "execution_count": 16,
   "metadata": {},
   "outputs": [],
   "source": [
    "def core_tcrf(core):\n",
    "    core_tcrf = f'___{core[3]}{core[4]}{core[5]}{core[6]}{core[7]}_'\n",
    "    return core_tcrf"
   ]
  },
  {
   "cell_type": "code",
   "execution_count": 17,
   "metadata": {},
   "outputs": [],
   "source": [
    "def seq_mandist(df_epitope,epitope_feature):\n",
    "    ## get sequence ID\n",
    "    \n",
    "    seq = df_epitope.ID.unique()\n",
    "    ## loop through all seq in seq array to calculate Manhatton distance\n",
    "    pbar = ProgressBar()\n",
    "    seq_distance=[]\n",
    "    for i in pbar(range(len(seq))):\n",
    "        for j in range(len(seq)):\n",
    "            if i<j:\n",
    "                distance = cityblock(epitope_feature[seq[i]], epitope_feature[seq[j]])\n",
    "                seq_distance.append([seq[i], seq[j], distance])                \n",
    "                df_distance = pd.DataFrame(seq_distance, columns=[\"seq1\", \"seq2\",\"epitope_distance\"])\n",
    "                    \n",
    "    return(df_distance)"
   ]
  },
  {
   "cell_type": "code",
   "execution_count": 19,
   "metadata": {},
   "outputs": [
    {
     "name": "stderr",
     "output_type": "stream",
     "text": [
      "usage: ipykernel_launcher.py [-h] -i INPUT -o OUTPUT\n",
      "ipykernel_launcher.py: error: the following arguments are required: -i/--input, -o/--output\n"
     ]
    },
    {
     "ename": "SystemExit",
     "evalue": "2",
     "output_type": "error",
     "traceback": [
      "An exception has occurred, use %tb to see the full traceback.\n",
      "\u001b[0;31mSystemExit\u001b[0m\u001b[0;31m:\u001b[0m 2\n"
     ]
    }
   ],
   "source": [
    "def main():\n",
    "    \n",
    "    parser = argparse.ArgumentParser()\n",
    "    parser.add_argument('-i', '--input', required = True)  ## input is the netMPHpan xlsx for multiple sequence but single allel\n",
    "    parser.add_argument('-o', '--output', required=True) ## output is the distance matrisx for each allele, required output csv name\n",
    "    args = parser.parse_args()\n",
    "    print(args.input, 'is input, ', args.output, 'output.')\n",
    "    \n",
    "    ## input is the netMPHpan xlsx for multiple sequence but single allel\n",
    "    ## for single allel, load the xls file and filter by cutoff\n",
    "    data = pd.read_csv(args.input,sep=\"\\t\",skiprows=1)\n",
    "    data_epitope = data.loc[data['EL_Rank'] <2] \n",
    "    data_epitope['core_tcrf'] = data_epitope.apply(lambda x:core_tcrf(x['core']),axis=1)\n",
    "    data_epitope = data_epitope[[\"ID\",\"Pos\", \"core_tcrf\",\"EL-score\"]]\n",
    "    data_epitope=data_epitope.groupby([\"ID\",\"Pos\", \"core_tcrf\"])[\"EL-score\"].sum().reset_index()\n",
    "    ## reshape dataframe\n",
    "    epitope_feature = data_epitope.pivot_table(index=['core_tcrf'], columns=['ID'],values=\"EL-score\")\n",
    "    epitope_feature = epitope_feature.fillna(0)\n",
    "\n",
    "    ## calculate distance\n",
    "    seq_epidist=seq_mandist(data_epitope,epitope_feature)\n",
    "    #allele=get_allele(args.input)\n",
    "    #seq_epidist['allele']=allele\n",
    "    seq_epidist.to_csv(args.output,index=False)\n",
    "\n",
    "main()"
   ]
  },
  {
   "cell_type": "code",
   "execution_count": null,
   "metadata": {},
   "outputs": [],
   "source": []
  }
 ],
 "metadata": {
  "kernelspec": {
   "display_name": "Python 3 (ipykernel)",
   "language": "python",
   "name": "python3"
  },
  "language_info": {
   "codemirror_mode": {
    "name": "ipython",
    "version": 3
   },
   "file_extension": ".py",
   "mimetype": "text/x-python",
   "name": "python",
   "nbconvert_exporter": "python",
   "pygments_lexer": "ipython3",
   "version": "3.9.13"
  }
 },
 "nbformat": 4,
 "nbformat_minor": 4
}
